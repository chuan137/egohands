{
  "nbformat": 4,
  "nbformat_minor": 0,
  "metadata": {
    "colab": {
      "name": "grocery-categories-v06-a.ipynb",
      "provenance": [],
      "collapsed_sections": [],
      "toc_visible": true,
      "include_colab_link": true
    },
    "kernelspec": {
      "name": "python3",
      "display_name": "Python 3"
    },
    "accelerator": "GPU"
  },
  "cells": [
    {
      "cell_type": "markdown",
      "metadata": {
        "id": "view-in-github",
        "colab_type": "text"
      },
      "source": [
        "<a href=\"https://colab.research.google.com/github/chuan137/egohands/blob/master/grocery/grocery_categories_v06_a.ipynb\" target=\"_parent\"><img src=\"https://colab.research.google.com/assets/colab-badge.svg\" alt=\"Open In Colab\"/></a>"
      ]
    },
    {
      "cell_type": "markdown",
      "metadata": {
        "id": "3yo3Q73Saai1",
        "colab_type": "text"
      },
      "source": [
        "## Note\n",
        "\n",
        "__Description__ more categories for training.\n",
        "\n",
        "__Update__\n"
      ]
    },
    {
      "cell_type": "markdown",
      "metadata": {
        "id": "1qqone641roL",
        "colab_type": "text"
      },
      "source": [
        "## Training Details\n",
        "\n",
        "**Train data**\n",
        "* 5 categories: BEANS, CAKE, CANDY, MILK, PASTA \n",
        "* image size 224\n",
        "\n",
        "**Architecture**\n",
        "* **With** fully connected layer\n",
        "* prediction layer with L2 regularizer\n",
        "\n",
        "**Hyper parameters**\n",
        "* softmax layer with regularizer, weight = 0.0001\n",
        "* optimizer Adam, learning rate 0.0001\n",
        "\n"
      ]
    },
    {
      "cell_type": "markdown",
      "metadata": {
        "id": "1I2iCuFUaYLN",
        "colab_type": "text"
      },
      "source": [
        "## Prepare"
      ]
    },
    {
      "cell_type": "code",
      "metadata": {
        "id": "ItuoQ_0d5DRX",
        "colab_type": "code",
        "colab": {
          "base_uri": "https://localhost:8080/",
          "height": 125
        },
        "outputId": "71ab52b4-e68f-44d6-e951-5529be5a6236"
      },
      "source": [
        "from google.colab import drive\n",
        "drive.mount('/content/drive')"
      ],
      "execution_count": 1,
      "outputs": [
        {
          "output_type": "stream",
          "text": [
            "Go to this URL in a browser: https://accounts.google.com/o/oauth2/auth?client_id=947318989803-6bn6qk8qdgf4n4g3pfee6491hc0brc4i.apps.googleusercontent.com&redirect_uri=urn%3aietf%3awg%3aoauth%3a2.0%3aoob&response_type=code&scope=email%20https%3a%2f%2fwww.googleapis.com%2fauth%2fdocs.test%20https%3a%2f%2fwww.googleapis.com%2fauth%2fdrive%20https%3a%2f%2fwww.googleapis.com%2fauth%2fdrive.photos.readonly%20https%3a%2f%2fwww.googleapis.com%2fauth%2fpeopleapi.readonly\n",
            "\n",
            "Enter your authorization code:\n",
            "··········\n",
            "Mounted at /content/drive\n"
          ],
          "name": "stdout"
        }
      ]
    },
    {
      "cell_type": "code",
      "metadata": {
        "id": "MTbsckzr5_Ej",
        "colab_type": "code",
        "colab": {}
      },
      "source": [
        "%cp /content/drive/My\\ Drive/freiburg_groceries_dataset.zip .\n",
        "!unzip -q freiburg_groceries_dataset.zip"
      ],
      "execution_count": 0,
      "outputs": []
    },
    {
      "cell_type": "markdown",
      "metadata": {
        "id": "Mr5Ug_gW_Z66",
        "colab_type": "text"
      },
      "source": [
        "## Load Data"
      ]
    },
    {
      "cell_type": "code",
      "metadata": {
        "id": "AIGaFb0tEYrk",
        "colab_type": "code",
        "outputId": "51ca4803-d6cf-4da1-d28e-ec520973d19f",
        "colab": {
          "base_uri": "https://localhost:8080/",
          "height": 34
        }
      },
      "source": [
        "%tensorflow_version 2.x\n",
        "import tensorflow as tf\n",
        "print(tf.__version__)"
      ],
      "execution_count": 4,
      "outputs": [
        {
          "output_type": "stream",
          "text": [
            "2.0.0\n"
          ],
          "name": "stdout"
        }
      ]
    },
    {
      "cell_type": "markdown",
      "metadata": {
        "id": "UFq1ZV6gSOqa",
        "colab_type": "text"
      },
      "source": [
        "* split train and test images"
      ]
    },
    {
      "cell_type": "code",
      "metadata": {
        "id": "3C5jWZ8-MwsB",
        "colab_type": "code",
        "colab": {}
      },
      "source": [
        "import os\n",
        "import random\n",
        "import pandas as pd\n",
        "\n",
        "def find_images(dpath, subdir=''):\n",
        "    \"\"\" return [](filepath, label) \"\"\"\n",
        "    images = []\n",
        "    if os.path.isdir(os.path.join(dpath, subdir)):\n",
        "        for filename in os.listdir(os.path.join(dpath, subdir)):\n",
        "            filepath = os.path.join(subdir, filename)\n",
        "            images.append(filepath)\n",
        "    return images\n",
        "\n",
        "\n",
        "def split_images(images, splits):\n",
        "    'shuffle and split images[] to train[], validation and test[]'\n",
        "    if type(splits) not in (list, tuple):\n",
        "        raise TypeError(\"splits must be list or tuple\")\n",
        "    elif abs(sum(splits) - 1.0) > 0.000001:\n",
        "        raise ValueError(\"sum of splits should be 1.0\")\n",
        "    elif len(splits) not in (2, 3):\n",
        "        raise ValueError(\"splits should have 2 or 3 elements\") \n",
        "    random.shuffle(images)\n",
        "    n = len(images)\n",
        "    if len(splits) == 2:\n",
        "        n1, _ = [round(x*n) for x in splits]\n",
        "        print(n1)\n",
        "        return images[:n1], images[n1:]\n",
        "    else:\n",
        "        n1, n2, _ = [round(x*n) for x in splits]\n",
        "        return images[:n1], images[n1:n1+n2], images[n1+n2:]\n",
        "\n",
        "all_classes = next(os.walk('images'))[1]\n",
        "\n",
        "train = []\n",
        "val = []\n",
        "test = []\n",
        "splits = (0.8, 0.1, 0.1)\n",
        "for cl in all_classes:\n",
        "    images = find_images('images', cl)\n",
        "    tr, v, te = split_images(images, splits)\n",
        "    train += zip(tr, [cl] * len(tr))\n",
        "    val += zip(v, [cl] * len(v))\n",
        "    test += zip(te, [cl] * len(te))\n",
        "\n",
        "train_df = pd.DataFrame(train, columns=['filename', 'class'])\n",
        "val_df = pd.DataFrame(val, columns=['filename', 'class'])\n",
        "test_df = pd.DataFrame(test, columns=['filename', 'class'])\n"
      ],
      "execution_count": 0,
      "outputs": []
    },
    {
      "cell_type": "markdown",
      "metadata": {
        "id": "3O_UWuRoSnj0",
        "colab_type": "text"
      },
      "source": [
        "* create data generator for training"
      ]
    },
    {
      "cell_type": "code",
      "metadata": {
        "id": "Qw24dpUCSUO0",
        "colab_type": "code",
        "colab": {}
      },
      "source": [
        "IMAGE_SIZE = 224\n",
        "BATCH_SIZE = 32\n",
        "seed = 76\n",
        "\n",
        "classes = ['BEANS', 'CAKE', 'CANDY', 'MILK', 'PASTA']\n",
        "n_classes = len(classes)\n",
        "classmap = {c: i for i, c in enumerate(classes)}\n",
        "img_shape = (IMAGE_SIZE, IMAGE_SIZE, 3)"
      ],
      "execution_count": 0,
      "outputs": []
    },
    {
      "cell_type": "code",
      "metadata": {
        "id": "RrYHwVzR94Fm",
        "colab_type": "code",
        "outputId": "28a92b76-ba55-4358-f450-776c77dfad65",
        "colab": {
          "base_uri": "https://localhost:8080/",
          "height": 105
        }
      },
      "source": [
        "import os\n",
        "labels_count = dict()\n",
        "for img_class in classes:\n",
        "    labels_count[img_class] = len(os.listdir('images/' + img_class))\n",
        "total_count = sum(labels_count.values())\n",
        "class_weights = {cls: total_count / count for cls, count in \n",
        "                 enumerate(labels_count.values())}\n",
        "class_weights"
      ],
      "execution_count": 7,
      "outputs": [
        {
          "output_type": "execute_result",
          "data": {
            "text/plain": [
              "{0: 7.375,\n",
              " 1: 6.229813664596273,\n",
              " 2: 2.696236559139785,\n",
              " 3: 6.191358024691358,\n",
              " 4: 5.8313953488372094}"
            ]
          },
          "metadata": {
            "tags": []
          },
          "execution_count": 7
        }
      ]
    },
    {
      "cell_type": "code",
      "metadata": {
        "id": "DFpsYrRS68GA",
        "colab_type": "code",
        "outputId": "38596772-f0f6-4009-c9df-8da497b492d9",
        "colab": {
          "base_uri": "https://localhost:8080/",
          "height": 34
        }
      },
      "source": [
        "train_dataset = train_df[train_df['class'].isin(classes)]\n",
        "train_filenames = train_dataset['filename'].tolist()\n",
        "train_labels = train_dataset['class'].tolist()\n",
        "train_labels = [classmap[l] for l in train_labels]\n",
        "train_labels = tf.keras.utils.to_categorical(train_labels, num_classes=n_classes)\n",
        "\n",
        "val_dataset = val_df[val_df['class'].isin(classes)]\n",
        "val_filenames = val_dataset['filename'].tolist()\n",
        "val_labels = val_dataset['class'].tolist()\n",
        "val_labels = [classmap[l] for l in val_labels]\n",
        "val_labels = tf.keras.utils.to_categorical(val_labels, num_classes=n_classes)\n",
        "\n",
        "test_dataset = test_df[test_df['class'].isin(classes)]\n",
        "test_filenames = test_dataset['filename'].tolist()\n",
        "test_labels = test_dataset['class'].tolist()\n",
        "test_labels = [classmap[l] for l in test_labels]\n",
        "test_labels = tf.keras.utils.to_categorical(test_labels, num_classes=n_classes)\n",
        "\n",
        "len(train_filenames), len(val_filenames), len(test_filenames)"
      ],
      "execution_count": 8,
      "outputs": [
        {
          "output_type": "execute_result",
          "data": {
            "text/plain": [
              "(804, 100, 99)"
            ]
          },
          "metadata": {
            "tags": []
          },
          "execution_count": 8
        }
      ]
    },
    {
      "cell_type": "code",
      "metadata": {
        "id": "N3PqYoYVyf1A",
        "colab_type": "code",
        "outputId": "b3704cc0-740c-471b-b8e9-e4a87a57258b",
        "colab": {
          "base_uri": "https://localhost:8080/",
          "height": 34
        }
      },
      "source": [
        "# Function to load and preprocess each image\n",
        "def _parse_fn(filename, label):\n",
        "    filename = 'images/' + filename\n",
        "    img = tf.io.read_file(filename)\n",
        "    img = tf.image.decode_png(img)\n",
        "    img = (tf.cast(img, tf.float32)/127.5) - 1\n",
        "    # img = tf.cast(img, tf.float32)/255.0\n",
        "    img = tf.image.resize(img, (IMAGE_SIZE, IMAGE_SIZE))\n",
        "    return img, label\n",
        "\n",
        "train_data = tf.data.Dataset.from_tensor_slices(\n",
        "  (tf.constant(train_filenames), tf.constant(train_labels))\n",
        ")\n",
        "\n",
        "val_data = tf.data.Dataset.from_tensor_slices(\n",
        "  (tf.constant(val_filenames), tf.constant(val_labels))\n",
        ")\n",
        "\n",
        "test_data = tf.data.Dataset.from_tensor_slices(\n",
        "    (tf.constant(test_filenames), tf.constant(test_labels))\n",
        ")\n",
        "\n",
        "train_data = (train_data.shuffle(buffer_size=len(train_filenames))\n",
        "             .map(_parse_fn)\n",
        "             .batch(BATCH_SIZE)\n",
        ")\n",
        "\n",
        "val_data = (val_data.shuffle(buffer_size=len(val_filenames))\n",
        "            .map(_parse_fn)\n",
        "            .batch(BATCH_SIZE)\n",
        ")\n",
        "\n",
        "test_data = (test_data.map(_parse_fn))\n",
        "\n",
        "n_train = len(train_filenames)\n",
        "n_val = len(val_filenames)\n",
        "n_train, n_val"
      ],
      "execution_count": 9,
      "outputs": [
        {
          "output_type": "execute_result",
          "data": {
            "text/plain": [
              "(804, 100)"
            ]
          },
          "metadata": {
            "tags": []
          },
          "execution_count": 9
        }
      ]
    },
    {
      "cell_type": "markdown",
      "metadata": {
        "id": "4EJEDFP7Xmwh",
        "colab_type": "text"
      },
      "source": [
        " * build train model"
      ]
    },
    {
      "cell_type": "code",
      "metadata": {
        "id": "mTM4GivYeRAq",
        "colab_type": "code",
        "outputId": "38896b77-c3fa-42c2-f470-9350a339833b",
        "colab": {
          "base_uri": "https://localhost:8080/",
          "height": 336
        }
      },
      "source": [
        "import tensorflow as tf\n",
        "from tensorflow.keras import regularizers\n",
        "\n",
        "w_l2 = 0.0001\n",
        "\n",
        "# Pre-trained model with MobileNetV2\n",
        "base_model = tf.keras.applications.MobileNetV2(\n",
        "    input_shape=img_shape,\n",
        "    include_top=False,\n",
        "    weights='imagenet'\n",
        ")\n",
        "\n",
        "# Freeze the pre-trained model weights\n",
        "base_model.trainable = False\n",
        "\n",
        "# Trainable classification head\n",
        "maxpool_layer = tf.keras.layers.GlobalMaxPooling2D()\n",
        "fc_layer_1 = tf.keras.layers.Dense(1280, activation='relu')\n",
        "\n",
        "# Prediction with L2 regularizer\n",
        "prediction_layer = tf.keras.layers.Dense(\n",
        "    n_classes, \n",
        "    kernel_regularizer=regularizers.l2(w_l2), \n",
        "    activation='softmax')\n",
        "\n",
        "# Layer classification head with feature detector\n",
        "model = tf.keras.Sequential([\n",
        "    base_model,\n",
        "    maxpool_layer,\n",
        "    fc_layer_1,\n",
        "    prediction_layer\n",
        "])\n",
        "\n",
        "model.summary()"
      ],
      "execution_count": 10,
      "outputs": [
        {
          "output_type": "stream",
          "text": [
            "Downloading data from https://github.com/JonathanCMitchell/mobilenet_v2_keras/releases/download/v1.1/mobilenet_v2_weights_tf_dim_ordering_tf_kernels_1.0_224_no_top.h5\n",
            "9412608/9406464 [==============================] - 1s 0us/step\n",
            "Model: \"sequential\"\n",
            "_________________________________________________________________\n",
            "Layer (type)                 Output Shape              Param #   \n",
            "=================================================================\n",
            "mobilenetv2_1.00_224 (Model) (None, 7, 7, 1280)        2257984   \n",
            "_________________________________________________________________\n",
            "global_max_pooling2d (Global (None, 1280)              0         \n",
            "_________________________________________________________________\n",
            "dense (Dense)                (None, 1280)              1639680   \n",
            "_________________________________________________________________\n",
            "dense_1 (Dense)              (None, 5)                 6405      \n",
            "=================================================================\n",
            "Total params: 3,904,069\n",
            "Trainable params: 1,646,085\n",
            "Non-trainable params: 2,257,984\n",
            "_________________________________________________________________\n"
          ],
          "name": "stdout"
        }
      ]
    },
    {
      "cell_type": "code",
      "metadata": {
        "id": "hwcS-hJ-eSe9",
        "colab_type": "code",
        "colab": {}
      },
      "source": [
        "epochs = 3000\n",
        "learning_rate = 0.0001\n",
        "\n",
        "# Compile the model\n",
        "model.compile(optimizer=tf.keras.optimizers.Adam(learning_rate=learning_rate), \n",
        "              loss='categorical_crossentropy',\n",
        "              metrics=['accuracy']\n",
        ")\n",
        "\n",
        "steps_per_epoch = round(n_train/BATCH_SIZE)\n",
        "validation_steps = round(n_val/BATCH_SIZE)\n",
        "\n",
        "hist = model.fit(train_data.repeat(), \n",
        "                 epochs=epochs,\n",
        "                 steps_per_epoch=steps_per_epoch,\n",
        "                 validation_data=val_data.repeat(),\n",
        "                 validation_steps=validation_steps,\n",
        "                 class_weight=class_weights)\n"
      ],
      "execution_count": 0,
      "outputs": []
    },
    {
      "cell_type": "code",
      "metadata": {
        "id": "nOhKovWrbmOt",
        "colab_type": "code",
        "outputId": "f9814dbb-7256-4030-acf9-875c7d42169f",
        "colab": {
          "base_uri": "https://localhost:8080/",
          "height": 573
        }
      },
      "source": [
        "import matplotlib.pyplot as plt\n",
        "\n",
        "\n",
        "# Plot training & validation accuracy values\n",
        "plt.plot(hist.history['accuracy'])\n",
        "plt.plot(hist.history['val_accuracy'])\n",
        "plt.title('Model accuracy')\n",
        "plt.ylabel('Accuracy')\n",
        "plt.xlabel('Epoch')\n",
        "plt.legend(['Train', 'Validation'], loc='upper left')\n",
        "plt.ylim(0.3, 1.1)\n",
        "plt.show()\n",
        "\n",
        "# Plot training & validation loss values\n",
        "plt.plot(hist.history['loss'])\n",
        "plt.plot(hist.history['val_loss'])\n",
        "plt.title('Model loss')\n",
        "plt.ylabel('Loss')\n",
        "plt.xlabel('Epoch')\n",
        "plt.legend(['Train', 'Validation'], loc='upper left')\n",
        "plt.ylim(0,2)\n",
        "plt.show()"
      ],
      "execution_count": 13,
      "outputs": [
        {
          "output_type": "display_data",
          "data": {
            "image/png": "[encoded data removed]",
            "text/plain": [
              "<Figure size 432x288 with 1 Axes>"
            ]
          },
          "metadata": {
            "tags": []
          }
        },
        {
          "output_type": "display_data",
          "data": {
            "image/png": "[encoded data removed]",
            "text/plain": [
              "<Figure size 432x288 with 1 Axes>"
            ]
          },
          "metadata": {
            "tags": []
          }
        }
      ]
    },
    {
      "cell_type": "code",
      "metadata": {
        "id": "-0KOIhBX8n7U",
        "colab_type": "code",
        "outputId": "532a8983-67b7-40b3-be28-d5b516706b2d",
        "colab": {
          "base_uri": "https://localhost:8080/",
          "height": 1000
        }
      },
      "source": [
        "import numpy as np\n",
        "\n",
        "x_data = []\n",
        "y_data = []\n",
        "for x, y in test_data.repeat(1):\n",
        "    x_data.append(x)\n",
        "    y_data.append(y)\n",
        "\n",
        "x_data = np.vstack(x_data).reshape(-1,224,224,3)\n",
        "predictions = model.predict_classes(x_data)\n",
        "\n",
        "for i in range(len(y_data)):\n",
        "    print(y_data[i], predictions[i], 'x' if list(y_data[i]).index(1) == predictions[i] else '' )\n"
      ],
      "execution_count": 14,
      "outputs": [
        {
          "output_type": "stream",
          "text": [
            "tf.Tensor([0. 1. 0. 0. 0.], shape=(5,), dtype=float32) 1 x\n",
            "tf.Tensor([0. 1. 0. 0. 0.], shape=(5,), dtype=float32) 2 \n",
            "tf.Tensor([0. 1. 0. 0. 0.], shape=(5,), dtype=float32) 1 x\n",
            "tf.Tensor([0. 1. 0. 0. 0.], shape=(5,), dtype=float32) 1 x\n",
            "tf.Tensor([0. 1. 0. 0. 0.], shape=(5,), dtype=float32) 2 \n",
            "tf.Tensor([0. 1. 0. 0. 0.], shape=(5,), dtype=float32) 1 x\n",
            "tf.Tensor([0. 1. 0. 0. 0.], shape=(5,), dtype=float32) 1 x\n",
            "tf.Tensor([0. 1. 0. 0. 0.], shape=(5,), dtype=float32) 0 \n",
            "tf.Tensor([0. 1. 0. 0. 0.], shape=(5,), dtype=float32) 0 \n",
            "tf.Tensor([0. 1. 0. 0. 0.], shape=(5,), dtype=float32) 2 \n",
            "tf.Tensor([0. 1. 0. 0. 0.], shape=(5,), dtype=float32) 2 \n",
            "tf.Tensor([0. 1. 0. 0. 0.], shape=(5,), dtype=float32) 1 x\n",
            "tf.Tensor([0. 1. 0. 0. 0.], shape=(5,), dtype=float32) 1 x\n",
            "tf.Tensor([0. 1. 0. 0. 0.], shape=(5,), dtype=float32) 1 x\n",
            "tf.Tensor([0. 1. 0. 0. 0.], shape=(5,), dtype=float32) 2 \n",
            "tf.Tensor([0. 1. 0. 0. 0.], shape=(5,), dtype=float32) 2 \n",
            "tf.Tensor([0. 0. 1. 0. 0.], shape=(5,), dtype=float32) 2 x\n",
            "tf.Tensor([0. 0. 1. 0. 0.], shape=(5,), dtype=float32) 2 x\n",
            "tf.Tensor([0. 0. 1. 0. 0.], shape=(5,), dtype=float32) 2 x\n",
            "tf.Tensor([0. 0. 1. 0. 0.], shape=(5,), dtype=float32) 2 x\n",
            "tf.Tensor([0. 0. 1. 0. 0.], shape=(5,), dtype=float32) 2 x\n",
            "tf.Tensor([0. 0. 1. 0. 0.], shape=(5,), dtype=float32) 2 x\n",
            "tf.Tensor([0. 0. 1. 0. 0.], shape=(5,), dtype=float32) 2 x\n",
            "tf.Tensor([0. 0. 1. 0. 0.], shape=(5,), dtype=float32) 2 x\n",
            "tf.Tensor([0. 0. 1. 0. 0.], shape=(5,), dtype=float32) 2 x\n",
            "tf.Tensor([0. 0. 1. 0. 0.], shape=(5,), dtype=float32) 2 x\n",
            "tf.Tensor([0. 0. 1. 0. 0.], shape=(5,), dtype=float32) 2 x\n",
            "tf.Tensor([0. 0. 1. 0. 0.], shape=(5,), dtype=float32) 2 x\n",
            "tf.Tensor([0. 0. 1. 0. 0.], shape=(5,), dtype=float32) 2 x\n",
            "tf.Tensor([0. 0. 1. 0. 0.], shape=(5,), dtype=float32) 2 x\n",
            "tf.Tensor([0. 0. 1. 0. 0.], shape=(5,), dtype=float32) 2 x\n",
            "tf.Tensor([0. 0. 1. 0. 0.], shape=(5,), dtype=float32) 0 \n",
            "tf.Tensor([0. 0. 1. 0. 0.], shape=(5,), dtype=float32) 2 x\n",
            "tf.Tensor([0. 0. 1. 0. 0.], shape=(5,), dtype=float32) 2 x\n",
            "tf.Tensor([0. 0. 1. 0. 0.], shape=(5,), dtype=float32) 2 x\n",
            "tf.Tensor([0. 0. 1. 0. 0.], shape=(5,), dtype=float32) 2 x\n",
            "tf.Tensor([0. 0. 1. 0. 0.], shape=(5,), dtype=float32) 2 x\n",
            "tf.Tensor([0. 0. 1. 0. 0.], shape=(5,), dtype=float32) 2 x\n",
            "tf.Tensor([0. 0. 1. 0. 0.], shape=(5,), dtype=float32) 2 x\n",
            "tf.Tensor([0. 0. 1. 0. 0.], shape=(5,), dtype=float32) 2 x\n",
            "tf.Tensor([0. 0. 1. 0. 0.], shape=(5,), dtype=float32) 2 x\n",
            "tf.Tensor([0. 0. 1. 0. 0.], shape=(5,), dtype=float32) 2 x\n",
            "tf.Tensor([0. 0. 1. 0. 0.], shape=(5,), dtype=float32) 2 x\n",
            "tf.Tensor([0. 0. 1. 0. 0.], shape=(5,), dtype=float32) 2 x\n",
            "tf.Tensor([0. 0. 1. 0. 0.], shape=(5,), dtype=float32) 2 x\n",
            "tf.Tensor([0. 0. 1. 0. 0.], shape=(5,), dtype=float32) 0 \n",
            "tf.Tensor([0. 0. 1. 0. 0.], shape=(5,), dtype=float32) 2 x\n",
            "tf.Tensor([0. 0. 1. 0. 0.], shape=(5,), dtype=float32) 2 x\n",
            "tf.Tensor([0. 0. 1. 0. 0.], shape=(5,), dtype=float32) 2 x\n",
            "tf.Tensor([0. 0. 1. 0. 0.], shape=(5,), dtype=float32) 2 x\n",
            "tf.Tensor([0. 0. 1. 0. 0.], shape=(5,), dtype=float32) 2 x\n",
            "tf.Tensor([0. 0. 1. 0. 0.], shape=(5,), dtype=float32) 2 x\n",
            "tf.Tensor([0. 0. 1. 0. 0.], shape=(5,), dtype=float32) 2 x\n",
            "tf.Tensor([0. 0. 0. 0. 1.], shape=(5,), dtype=float32) 2 \n",
            "tf.Tensor([0. 0. 0. 0. 1.], shape=(5,), dtype=float32) 2 \n",
            "tf.Tensor([0. 0. 0. 0. 1.], shape=(5,), dtype=float32) 0 \n",
            "tf.Tensor([0. 0. 0. 0. 1.], shape=(5,), dtype=float32) 2 \n",
            "tf.Tensor([0. 0. 0. 0. 1.], shape=(5,), dtype=float32) 2 \n",
            "tf.Tensor([0. 0. 0. 0. 1.], shape=(5,), dtype=float32) 2 \n",
            "tf.Tensor([0. 0. 0. 0. 1.], shape=(5,), dtype=float32) 2 \n",
            "tf.Tensor([0. 0. 0. 0. 1.], shape=(5,), dtype=float32) 2 \n",
            "tf.Tensor([0. 0. 0. 0. 1.], shape=(5,), dtype=float32) 2 \n",
            "tf.Tensor([0. 0. 0. 0. 1.], shape=(5,), dtype=float32) 2 \n",
            "tf.Tensor([0. 0. 0. 0. 1.], shape=(5,), dtype=float32) 4 x\n",
            "tf.Tensor([0. 0. 0. 0. 1.], shape=(5,), dtype=float32) 2 \n",
            "tf.Tensor([0. 0. 0. 0. 1.], shape=(5,), dtype=float32) 2 \n",
            "tf.Tensor([0. 0. 0. 0. 1.], shape=(5,), dtype=float32) 1 \n",
            "tf.Tensor([0. 0. 0. 0. 1.], shape=(5,), dtype=float32) 2 \n",
            "tf.Tensor([0. 0. 0. 0. 1.], shape=(5,), dtype=float32) 4 x\n",
            "tf.Tensor([0. 0. 0. 0. 1.], shape=(5,), dtype=float32) 2 \n",
            "tf.Tensor([0. 0. 0. 1. 0.], shape=(5,), dtype=float32) 2 \n",
            "tf.Tensor([0. 0. 0. 1. 0.], shape=(5,), dtype=float32) 3 x\n",
            "tf.Tensor([0. 0. 0. 1. 0.], shape=(5,), dtype=float32) 2 \n",
            "tf.Tensor([0. 0. 0. 1. 0.], shape=(5,), dtype=float32) 2 \n",
            "tf.Tensor([0. 0. 0. 1. 0.], shape=(5,), dtype=float32) 2 \n",
            "tf.Tensor([0. 0. 0. 1. 0.], shape=(5,), dtype=float32) 2 \n",
            "tf.Tensor([0. 0. 0. 1. 0.], shape=(5,), dtype=float32) 2 \n",
            "tf.Tensor([0. 0. 0. 1. 0.], shape=(5,), dtype=float32) 3 x\n",
            "tf.Tensor([0. 0. 0. 1. 0.], shape=(5,), dtype=float32) 1 \n",
            "tf.Tensor([0. 0. 0. 1. 0.], shape=(5,), dtype=float32) 2 \n",
            "tf.Tensor([0. 0. 0. 1. 0.], shape=(5,), dtype=float32) 3 x\n",
            "tf.Tensor([0. 0. 0. 1. 0.], shape=(5,), dtype=float32) 0 \n",
            "tf.Tensor([0. 0. 0. 1. 0.], shape=(5,), dtype=float32) 3 x\n",
            "tf.Tensor([0. 0. 0. 1. 0.], shape=(5,), dtype=float32) 2 \n",
            "tf.Tensor([0. 0. 0. 1. 0.], shape=(5,), dtype=float32) 3 x\n",
            "tf.Tensor([0. 0. 0. 1. 0.], shape=(5,), dtype=float32) 0 \n",
            "tf.Tensor([1. 0. 0. 0. 0.], shape=(5,), dtype=float32) 0 x\n",
            "tf.Tensor([1. 0. 0. 0. 0.], shape=(5,), dtype=float32) 0 x\n",
            "tf.Tensor([1. 0. 0. 0. 0.], shape=(5,), dtype=float32) 0 x\n",
            "tf.Tensor([1. 0. 0. 0. 0.], shape=(5,), dtype=float32) 0 x\n",
            "tf.Tensor([1. 0. 0. 0. 0.], shape=(5,), dtype=float32) 0 x\n",
            "tf.Tensor([1. 0. 0. 0. 0.], shape=(5,), dtype=float32) 0 x\n",
            "tf.Tensor([1. 0. 0. 0. 0.], shape=(5,), dtype=float32) 0 x\n",
            "tf.Tensor([1. 0. 0. 0. 0.], shape=(5,), dtype=float32) 0 x\n",
            "tf.Tensor([1. 0. 0. 0. 0.], shape=(5,), dtype=float32) 0 x\n",
            "tf.Tensor([1. 0. 0. 0. 0.], shape=(5,), dtype=float32) 0 x\n",
            "tf.Tensor([1. 0. 0. 0. 0.], shape=(5,), dtype=float32) 0 x\n",
            "tf.Tensor([1. 0. 0. 0. 0.], shape=(5,), dtype=float32) 0 x\n",
            "tf.Tensor([1. 0. 0. 0. 0.], shape=(5,), dtype=float32) 0 x\n"
          ],
          "name": "stdout"
        }
      ]
    },
    {
      "cell_type": "code",
      "metadata": {
        "id": "hAdQCVhwaJBC",
        "colab_type": "code",
        "colab": {}
      },
      "source": [
        "model.save('drive/My Drive/Colab Notebooks/grocery/grocery-categories-v06-a.h5')\n",
        "model.save_weights('drive/My Drive/Colab Notebooks/grocery/grocery-categories-v06-a.weights.h5')"
      ],
      "execution_count": 0,
      "outputs": []
    },
    {
      "cell_type": "code",
      "metadata": {
        "id": "MHWvwkCpDH_E",
        "colab_type": "code",
        "colab": {}
      },
      "source": [
        ""
      ],
      "execution_count": 0,
      "outputs": []
    }
  ]
}