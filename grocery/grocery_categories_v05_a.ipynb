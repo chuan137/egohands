{
  "nbformat": 4,
  "nbformat_minor": 0,
  "metadata": {
    "colab": {
      "name": "grocery-categories-v05-a.ipynb",
      "provenance": [],
      "collapsed_sections": [],
      "toc_visible": true,
      "include_colab_link": true
    },
    "kernelspec": {
      "name": "python3",
      "display_name": "Python 3"
    },
    "accelerator": "GPU"
  },
  "cells": [
    {
      "cell_type": "markdown",
      "metadata": {
        "id": "view-in-github",
        "colab_type": "text"
      },
      "source": [
        "<a href=\"https://colab.research.google.com/github/chuan137/egohands/blob/master/grocery/grocery_categories_v05_a.ipynb\" target=\"_parent\"><img src=\"https://colab.research.google.com/assets/colab-badge.svg\" alt=\"Open In Colab\"/></a>"
      ]
    },
    {
      "cell_type": "markdown",
      "metadata": {
        "id": "3yo3Q73Saai1",
        "colab_type": "text"
      },
      "source": [
        "## Note\n",
        "\n",
        "__Description__ Select three categories for training. Expect better train and validation accuracies than training all categories. Relative simple architecture. Noticable overfitting. Training accuracies > 0.95. Validation accuracies ~0.8.\n",
        "\n",
        "* *v03-a* -- No fully connected layer, prediction layer with L2 regularizer\n",
        "* *v03-b* -- FC layer, prediction layer with L2 regularizer\n",
        "* *v03-c* -- FC layer w/ L2 regularizer, prediction layer w/o regularizer\n",
        "* *v03-d* -- Dropout layer before FC layer\n",
        "\n",
        "\n",
        "__Update__\n",
        "* use orignal png images\n",
        "* No augmentation\n",
        "* use tf dataset to generate batch"
      ]
    },
    {
      "cell_type": "markdown",
      "metadata": {
        "id": "1qqone641roL",
        "colab_type": "text"
      },
      "source": [
        "## Training Details\n",
        "\n",
        "**Train data**\n",
        "* 3 categories: BEANS, CAKE, CANDY \n",
        "* image size 224\n",
        "* \\# training set 568\n",
        "* \\# validation set 67\n",
        "\n",
        "**Architecture**\n",
        "* **NO** fully connected layer\n",
        "* prediction layer with L2 regularizer\n",
        "\n",
        "**Hyper parameters**\n",
        "* softmax layer with regularizer, weight = 0.0001\n",
        "* optimizer Adam, learning rate 0.0001\n",
        "\n"
      ]
    },
    {
      "cell_type": "markdown",
      "metadata": {
        "id": "1I2iCuFUaYLN",
        "colab_type": "text"
      },
      "source": [
        "## Prepare"
      ]
    },
    {
      "cell_type": "code",
      "metadata": {
        "id": "ItuoQ_0d5DRX",
        "colab_type": "code",
        "outputId": "cc69eff8-7f1f-4659-f4f5-6f959198e5fa",
        "colab": {
          "base_uri": "https://localhost:8080/",
          "height": 126
        }
      },
      "source": [
        "from google.colab import drive\n",
        "drive.mount('/content/drive')"
      ],
      "execution_count": 0,
      "outputs": [
        {
          "output_type": "stream",
          "text": [
            "Go to this URL in a browser: https://accounts.google.com/o/oauth2/auth?client_id=947318989803-6bn6qk8qdgf4n4g3pfee6491hc0brc4i.apps.googleusercontent.com&redirect_uri=urn%3Aietf%3Awg%3Aoauth%3A2.0%3Aoob&scope=email%20https%3A%2F%2Fwww.googleapis.com%2Fauth%2Fdocs.test%20https%3A%2F%2Fwww.googleapis.com%2Fauth%2Fdrive%20https%3A%2F%2Fwww.googleapis.com%2Fauth%2Fdrive.photos.readonly%20https%3A%2F%2Fwww.googleapis.com%2Fauth%2Fpeopleapi.readonly&response_type=code\n",
            "\n",
            "Enter your authorization code:\n",
            "··········\n",
            "Mounted at /content/drive\n"
          ],
          "name": "stdout"
        }
      ]
    },
    {
      "cell_type": "code",
      "metadata": {
        "id": "MTbsckzr5_Ej",
        "colab_type": "code",
        "colab": {}
      },
      "source": [
        "%cp /content/drive/My\\ Drive/freiburg_groceries_dataset.zip .\n",
        "!unzip -q freiburg_groceries_dataset.zip"
      ],
      "execution_count": 0,
      "outputs": []
    },
    {
      "cell_type": "markdown",
      "metadata": {
        "id": "Mr5Ug_gW_Z66",
        "colab_type": "text"
      },
      "source": [
        "## Load Data"
      ]
    },
    {
      "cell_type": "code",
      "metadata": {
        "id": "AIGaFb0tEYrk",
        "colab_type": "code",
        "outputId": "144e9df7-deca-42b2-b2a4-6af8b8fde834",
        "colab": {
          "base_uri": "https://localhost:8080/",
          "height": 52
        }
      },
      "source": [
        "%tensorflow_version 2.x\n",
        "import tensorflow as tf\n",
        "print(tf.__version__)"
      ],
      "execution_count": 0,
      "outputs": [
        {
          "output_type": "stream",
          "text": [
            "TensorFlow 2.x selected.\n",
            "2.0.0\n"
          ],
          "name": "stdout"
        }
      ]
    },
    {
      "cell_type": "markdown",
      "metadata": {
        "id": "UFq1ZV6gSOqa",
        "colab_type": "text"
      },
      "source": [
        "* split train and test images"
      ]
    },
    {
      "cell_type": "code",
      "metadata": {
        "id": "3C5jWZ8-MwsB",
        "colab_type": "code",
        "colab": {}
      },
      "source": [
        "import os\n",
        "import random\n",
        "import pandas as pd\n",
        "\n",
        "def find_images(dpath, subdir=''):\n",
        "    \"\"\" return [](filepath, label) \"\"\"\n",
        "    images = []\n",
        "    if os.path.isdir(os.path.join(dpath, subdir)):\n",
        "        for filename in os.listdir(os.path.join(dpath, subdir)):\n",
        "            filepath = os.path.join(subdir, filename)\n",
        "            images.append(filepath)\n",
        "    return images\n",
        "\n",
        "\n",
        "def split_images(images, splits):\n",
        "    'shuffle and split images[] to train[], validation and test[]'\n",
        "    if type(splits) not in (list, tuple):\n",
        "        raise TypeError(\"splits must be list or tuple\")\n",
        "    elif abs(sum(splits) - 1.0) > 0.000001:\n",
        "        raise ValueError(\"sum of splits should be 1.0\")\n",
        "    elif len(splits) not in (2, 3):\n",
        "        raise ValueError(\"splits should have 2 or 3 elements\") \n",
        "    random.shuffle(images)\n",
        "    n = len(images)\n",
        "    if len(splits) == 2:\n",
        "        n1, _ = [round(x*n) for x in splits]\n",
        "        print(n1)\n",
        "        return images[:n1], images[n1:]\n",
        "    else:\n",
        "        n1, n2, _ = [round(x*n) for x in splits]\n",
        "        return images[:n1], images[n1:n1+n2], images[n1+n2:]\n",
        "\n",
        "all_classes = next(os.walk('images'))[1]\n",
        "\n",
        "train = []\n",
        "val = []\n",
        "test = []\n",
        "splits = (0.8, 0.1, 0.1)\n",
        "for cl in all_classes:\n",
        "    images = find_images('images', cl)\n",
        "    tr, v, te = split_images(images, splits)\n",
        "    train += zip(tr, [cl] * len(tr))\n",
        "    val += zip(v, [cl] * len(v))\n",
        "    test += zip(te, [cl] * len(te))\n",
        "\n",
        "train_df = pd.DataFrame(train, columns=['filename', 'class'])\n",
        "val_df = pd.DataFrame(val, columns=['filename', 'class'])\n",
        "test_df = pd.DataFrame(test, columns=['filename', 'class'])\n"
      ],
      "execution_count": 0,
      "outputs": []
    },
    {
      "cell_type": "markdown",
      "metadata": {
        "id": "3O_UWuRoSnj0",
        "colab_type": "text"
      },
      "source": [
        "* create data generator for training"
      ]
    },
    {
      "cell_type": "code",
      "metadata": {
        "id": "Qw24dpUCSUO0",
        "colab_type": "code",
        "colab": {}
      },
      "source": [
        "IMAGE_SIZE = 96\n",
        "BATCH_SIZE = 32\n",
        "seed = 76\n",
        "\n",
        "classes = ['BEANS', 'CAKE', 'CANDY']\n",
        "n_classes = len(classes)\n",
        "classmap = {c: i for i, c in enumerate(classes)}\n",
        "img_shape = (IMAGE_SIZE, IMAGE_SIZE, 3)"
      ],
      "execution_count": 0,
      "outputs": []
    },
    {
      "cell_type": "code",
      "metadata": {
        "id": "RrYHwVzR94Fm",
        "colab_type": "code",
        "outputId": "423e17ed-e061-4618-ea32-bf9dee334738",
        "colab": {
          "base_uri": "https://localhost:8080/",
          "height": 35
        }
      },
      "source": [
        "import os\n",
        "labels_count = dict()\n",
        "for img_class in classes:\n",
        "    labels_count[img_class] = len(os.listdir('images/' + img_class))\n",
        "total_count = sum(labels_count.values())\n",
        "class_weights = {cls: total_count / count for cls, count in \n",
        "                 enumerate(labels_count.values())}\n",
        "class_weights"
      ],
      "execution_count": 0,
      "outputs": [
        {
          "output_type": "execute_result",
          "data": {
            "text/plain": [
              "{0: 4.919117647058823, 1: 4.15527950310559, 2: 1.7983870967741935}"
            ]
          },
          "metadata": {
            "tags": []
          },
          "execution_count": 31
        }
      ]
    },
    {
      "cell_type": "code",
      "metadata": {
        "id": "DFpsYrRS68GA",
        "colab_type": "code",
        "outputId": "58ee00e6-162b-4055-c1db-026e85e46c7f",
        "colab": {
          "base_uri": "https://localhost:8080/",
          "height": 35
        }
      },
      "source": [
        "train_dataset = train_df[train_df['class'].isin(classes)]\n",
        "train_filenames = train_dataset['filename'].tolist()\n",
        "train_labels = train_dataset['class'].tolist()\n",
        "train_labels = [classmap[l] for l in train_labels]\n",
        "train_labels = tf.keras.utils.to_categorical(train_labels, num_classes=n_classes)\n",
        "\n",
        "val_dataset = val_df[val_df['class'].isin(classes)]\n",
        "val_filenames = val_dataset['filename'].tolist()\n",
        "val_labels = val_dataset['class'].tolist()\n",
        "val_labels = [classmap[l] for l in val_labels]\n",
        "val_labels = tf.keras.utils.to_categorical(val_labels, num_classes=n_classes)\n",
        "\n",
        "test_dataset = test_df[test_df['class'].isin(classes)]\n",
        "test_filenames = test_dataset['filename'].tolist()\n",
        "test_labels = test_dataset['class'].tolist()\n",
        "test_labels = [classmap[l] for l in test_labels]\n",
        "test_labels = tf.keras.utils.to_categorical(test_labels, num_classes=n_classes)\n",
        "\n",
        "len(train_filenames), len(val_filenames), len(test_filenames)"
      ],
      "execution_count": 0,
      "outputs": [
        {
          "output_type": "execute_result",
          "data": {
            "text/plain": [
              "(536, 67, 66)"
            ]
          },
          "metadata": {
            "tags": []
          },
          "execution_count": 7
        }
      ]
    },
    {
      "cell_type": "code",
      "metadata": {
        "id": "N3PqYoYVyf1A",
        "colab_type": "code",
        "outputId": "abfaf39d-bf02-4964-dde4-7c6485395546",
        "colab": {
          "base_uri": "https://localhost:8080/",
          "height": 35
        }
      },
      "source": [
        "# Function to load and preprocess each image\n",
        "def _parse_fn(filename, label):\n",
        "    filename = 'images/' + filename\n",
        "    img = tf.io.read_file(filename)\n",
        "    img = tf.image.decode_png(img)\n",
        "    img = (tf.cast(img, tf.float32)/127.5) - 1\n",
        "    # img = tf.cast(img, tf.float32)/255.0\n",
        "    img = tf.image.resize(img, (IMAGE_SIZE, IMAGE_SIZE))\n",
        "    return img, label\n",
        "\n",
        "train_data = tf.data.Dataset.from_tensor_slices(\n",
        "  (tf.constant(train_filenames), tf.constant(train_labels))\n",
        ")\n",
        "\n",
        "val_data = tf.data.Dataset.from_tensor_slices(\n",
        "  (tf.constant(val_filenames), tf.constant(val_labels))\n",
        ")\n",
        "\n",
        "test_data = tf.data.Dataset.from_tensor_slices(\n",
        "    (tf.constant(test_filenames), tf.constant(test_labels))\n",
        ")\n",
        "\n",
        "train_data = (train_data.shuffle(buffer_size=len(train_filenames))\n",
        "             .map(_parse_fn)\n",
        "             .batch(BATCH_SIZE)\n",
        ")\n",
        "\n",
        "val_data = (val_data.shuffle(buffer_size=len(val_filenames))\n",
        "            .map(_parse_fn)\n",
        "            .batch(BATCH_SIZE)\n",
        ")\n",
        "\n",
        "test_data = (test_data.map(_parse_fn))\n",
        "\n",
        "n_train = len(train_filenames)\n",
        "n_val = len(val_filenames)\n",
        "n_train, n_val"
      ],
      "execution_count": 0,
      "outputs": [
        {
          "output_type": "execute_result",
          "data": {
            "text/plain": [
              "(536, 67)"
            ]
          },
          "metadata": {
            "tags": []
          },
          "execution_count": 8
        }
      ]
    },
    {
      "cell_type": "markdown",
      "metadata": {
        "id": "4EJEDFP7Xmwh",
        "colab_type": "text"
      },
      "source": [
        " * build train model"
      ]
    },
    {
      "cell_type": "code",
      "metadata": {
        "id": "mTM4GivYeRAq",
        "colab_type": "code",
        "outputId": "fe1222e3-a8fd-407e-8449-1ee0c4199fda",
        "colab": {
          "base_uri": "https://localhost:8080/",
          "height": 266
        }
      },
      "source": [
        "import tensorflow as tf\n",
        "from tensorflow.keras import regularizers\n",
        "\n",
        "w_l2 = 0.0001\n",
        "\n",
        "# Pre-trained model with MobileNetV2\n",
        "base_model = tf.keras.applications.MobileNetV2(\n",
        "    input_shape=img_shape,\n",
        "    include_top=False,\n",
        "    weights='imagenet'\n",
        ")\n",
        "\n",
        "# Freeze the pre-trained model weights\n",
        "base_model.trainable = False\n",
        "\n",
        "# Trainable classification head\n",
        "maxpool_layer = tf.keras.layers.GlobalMaxPooling2D()\n",
        "# fc_layer_1 = tf.keras.layers.Dense(1280, activation='relu')\n",
        "\n",
        "# Prediction with L2 regularizer\n",
        "prediction_layer = tf.keras.layers.Dense(\n",
        "    n_classes, \n",
        "    kernel_regularizer=regularizers.l2(w_l2), \n",
        "    activation='softmax')\n",
        "\n",
        "# Layer classification head with feature detector\n",
        "model = tf.keras.Sequential([\n",
        "    base_model,\n",
        "    maxpool_layer,\n",
        "    # fc_layer_1,\n",
        "    prediction_layer\n",
        "])\n",
        "\n",
        "model.summary()"
      ],
      "execution_count": 0,
      "outputs": [
        {
          "output_type": "stream",
          "text": [
            "Model: \"sequential_1\"\n",
            "_________________________________________________________________\n",
            "Layer (type)                 Output Shape              Param #   \n",
            "=================================================================\n",
            "mobilenetv2_1.00_96 (Model)  (None, 3, 3, 1280)        2257984   \n",
            "_________________________________________________________________\n",
            "global_max_pooling2d_1 (Glob (None, 1280)              0         \n",
            "_________________________________________________________________\n",
            "dense_1 (Dense)              (None, 3)                 3843      \n",
            "=================================================================\n",
            "Total params: 2,261,827\n",
            "Trainable params: 3,843\n",
            "Non-trainable params: 2,257,984\n",
            "_________________________________________________________________\n"
          ],
          "name": "stdout"
        }
      ]
    },
    {
      "cell_type": "code",
      "metadata": {
        "id": "hwcS-hJ-eSe9",
        "colab_type": "code",
        "outputId": "67b54183-42c6-46b8-f646-96eb4394eed1",
        "colab": {
          "base_uri": "https://localhost:8080/",
          "height": 1000
        }
      },
      "source": [
        "epochs = 50\n",
        "learning_rate = 0.0001\n",
        "\n",
        "# Compile the model\n",
        "model.compile(optimizer=tf.keras.optimizers.Adam(learning_rate=learning_rate), \n",
        "              loss='categorical_crossentropy',\n",
        "              metrics=['accuracy']\n",
        ")\n",
        "\n",
        "steps_per_epoch = round(n_train/BATCH_SIZE)\n",
        "validation_steps = round(n_val/BATCH_SIZE)\n",
        "\n",
        "hist = model.fit(train_data.repeat(), \n",
        "                 epochs=epochs,\n",
        "                 steps_per_epoch=steps_per_epoch,\n",
        "                 validation_data=val_data.repeat(),\n",
        "                 validation_steps=validation_steps,\n",
        "                 class_weight=class_weights)\n"
      ],
      "execution_count": 0,
      "outputs": [
        {
          "output_type": "stream",
          "text": [
            "Train for 17 steps, validate for 2 steps\n",
            "Epoch 1/50\n",
            "17/17 [==============================] - 7s 411ms/step - loss: 1.9401 - accuracy: 0.4795 - val_loss: 2.2631 - val_accuracy: 0.3594\n",
            "Epoch 2/50\n",
            "17/17 [==============================] - 3s 173ms/step - loss: 1.7614 - accuracy: 0.4944 - val_loss: 2.1682 - val_accuracy: 0.3438\n",
            "Epoch 3/50\n",
            "17/17 [==============================] - 3s 174ms/step - loss: 1.6020 - accuracy: 0.5336 - val_loss: 2.0810 - val_accuracy: 0.3438\n",
            "Epoch 4/50\n",
            "17/17 [==============================] - 3s 176ms/step - loss: 1.4505 - accuracy: 0.5597 - val_loss: 1.7569 - val_accuracy: 0.3906\n",
            "Epoch 5/50\n",
            "17/17 [==============================] - 3s 174ms/step - loss: 1.2786 - accuracy: 0.6045 - val_loss: 1.7459 - val_accuracy: 0.4219\n",
            "Epoch 6/50\n",
            "17/17 [==============================] - 3s 176ms/step - loss: 1.2756 - accuracy: 0.5877 - val_loss: 1.5109 - val_accuracy: 0.4688\n",
            "Epoch 7/50\n",
            "17/17 [==============================] - 3s 176ms/step - loss: 1.1975 - accuracy: 0.6138 - val_loss: 1.5301 - val_accuracy: 0.4688\n",
            "Epoch 8/50\n",
            "17/17 [==============================] - 3s 174ms/step - loss: 1.1005 - accuracy: 0.6250 - val_loss: 1.4350 - val_accuracy: 0.4844\n",
            "Epoch 9/50\n",
            "17/17 [==============================] - 3s 175ms/step - loss: 0.9214 - accuracy: 0.6847 - val_loss: 1.3201 - val_accuracy: 0.5000\n",
            "Epoch 10/50\n",
            "17/17 [==============================] - 3s 175ms/step - loss: 0.9354 - accuracy: 0.6604 - val_loss: 1.1661 - val_accuracy: 0.5156\n",
            "Epoch 11/50\n",
            "17/17 [==============================] - 3s 172ms/step - loss: 0.7920 - accuracy: 0.7201 - val_loss: 1.2156 - val_accuracy: 0.5469\n",
            "Epoch 12/50\n",
            "17/17 [==============================] - 3s 170ms/step - loss: 0.8368 - accuracy: 0.7183 - val_loss: 1.0828 - val_accuracy: 0.5625\n",
            "Epoch 13/50\n",
            "17/17 [==============================] - 3s 173ms/step - loss: 0.8252 - accuracy: 0.7444 - val_loss: 1.1145 - val_accuracy: 0.5625\n",
            "Epoch 14/50\n",
            "17/17 [==============================] - 3s 174ms/step - loss: 0.7239 - accuracy: 0.7500 - val_loss: 1.0585 - val_accuracy: 0.5625\n",
            "Epoch 15/50\n",
            "17/17 [==============================] - 3s 174ms/step - loss: 0.7118 - accuracy: 0.7481 - val_loss: 1.0281 - val_accuracy: 0.6094\n",
            "Epoch 16/50\n",
            "17/17 [==============================] - 3s 175ms/step - loss: 0.6510 - accuracy: 0.7724 - val_loss: 1.0001 - val_accuracy: 0.6250\n",
            "Epoch 17/50\n",
            "17/17 [==============================] - 3s 174ms/step - loss: 0.6313 - accuracy: 0.7649 - val_loss: 0.9743 - val_accuracy: 0.6562\n",
            "Epoch 18/50\n",
            "17/17 [==============================] - 3s 175ms/step - loss: 0.6280 - accuracy: 0.7836 - val_loss: 0.8986 - val_accuracy: 0.7031\n",
            "Epoch 19/50\n",
            "17/17 [==============================] - 3s 176ms/step - loss: 0.6064 - accuracy: 0.7631 - val_loss: 0.9172 - val_accuracy: 0.6875\n",
            "Epoch 20/50\n",
            "17/17 [==============================] - 3s 176ms/step - loss: 0.5861 - accuracy: 0.7892 - val_loss: 0.8293 - val_accuracy: 0.6875\n",
            "Epoch 21/50\n",
            "17/17 [==============================] - 3s 176ms/step - loss: 0.5276 - accuracy: 0.8190 - val_loss: 0.8743 - val_accuracy: 0.7188\n",
            "Epoch 22/50\n",
            "17/17 [==============================] - 3s 172ms/step - loss: 0.5524 - accuracy: 0.7929 - val_loss: 0.8208 - val_accuracy: 0.7344\n",
            "Epoch 23/50\n",
            "17/17 [==============================] - 3s 176ms/step - loss: 0.5053 - accuracy: 0.8209 - val_loss: 0.8348 - val_accuracy: 0.7344\n",
            "Epoch 24/50\n",
            "17/17 [==============================] - 3s 176ms/step - loss: 0.5176 - accuracy: 0.8060 - val_loss: 0.8256 - val_accuracy: 0.7188\n",
            "Epoch 25/50\n",
            "17/17 [==============================] - 3s 176ms/step - loss: 0.4874 - accuracy: 0.8172 - val_loss: 0.7829 - val_accuracy: 0.7344\n",
            "Epoch 26/50\n",
            "17/17 [==============================] - 3s 176ms/step - loss: 0.4484 - accuracy: 0.8209 - val_loss: 0.7725 - val_accuracy: 0.7188\n",
            "Epoch 27/50\n",
            "17/17 [==============================] - 3s 175ms/step - loss: 0.4212 - accuracy: 0.8321 - val_loss: 0.7359 - val_accuracy: 0.7344\n",
            "Epoch 28/50\n",
            "17/17 [==============================] - 3s 176ms/step - loss: 0.4735 - accuracy: 0.8228 - val_loss: 0.7035 - val_accuracy: 0.7500\n",
            "Epoch 29/50\n",
            "17/17 [==============================] - 3s 176ms/step - loss: 0.3939 - accuracy: 0.8451 - val_loss: 0.6546 - val_accuracy: 0.7656\n",
            "Epoch 30/50\n",
            "17/17 [==============================] - 3s 176ms/step - loss: 0.3891 - accuracy: 0.8563 - val_loss: 0.7372 - val_accuracy: 0.7812\n",
            "Epoch 31/50\n",
            "17/17 [==============================] - 3s 173ms/step - loss: 0.4629 - accuracy: 0.8302 - val_loss: 0.6939 - val_accuracy: 0.7812\n",
            "Epoch 32/50\n",
            "17/17 [==============================] - 3s 175ms/step - loss: 0.3659 - accuracy: 0.8657 - val_loss: 0.6112 - val_accuracy: 0.8125\n",
            "Epoch 33/50\n",
            "17/17 [==============================] - 3s 177ms/step - loss: 0.3228 - accuracy: 0.8750 - val_loss: 0.7066 - val_accuracy: 0.7812\n",
            "Epoch 34/50\n",
            "17/17 [==============================] - 3s 177ms/step - loss: 0.3478 - accuracy: 0.8582 - val_loss: 0.7017 - val_accuracy: 0.7656\n",
            "Epoch 35/50\n",
            "17/17 [==============================] - 3s 176ms/step - loss: 0.3950 - accuracy: 0.8414 - val_loss: 0.5901 - val_accuracy: 0.7812\n",
            "Epoch 36/50\n",
            "17/17 [==============================] - 3s 174ms/step - loss: 0.3302 - accuracy: 0.8787 - val_loss: 0.6113 - val_accuracy: 0.7969\n",
            "Epoch 37/50\n",
            "17/17 [==============================] - 3s 175ms/step - loss: 0.3134 - accuracy: 0.8713 - val_loss: 0.6090 - val_accuracy: 0.7969\n",
            "Epoch 38/50\n",
            "17/17 [==============================] - 3s 176ms/step - loss: 0.3356 - accuracy: 0.8713 - val_loss: 0.6735 - val_accuracy: 0.8125\n",
            "Epoch 39/50\n",
            "17/17 [==============================] - 3s 176ms/step - loss: 0.3278 - accuracy: 0.8787 - val_loss: 0.6634 - val_accuracy: 0.7812\n",
            "Epoch 40/50\n",
            "17/17 [==============================] - 3s 176ms/step - loss: 0.2882 - accuracy: 0.8881 - val_loss: 0.6321 - val_accuracy: 0.8125\n",
            "Epoch 41/50\n",
            "17/17 [==============================] - 3s 174ms/step - loss: 0.3062 - accuracy: 0.8843 - val_loss: 0.6451 - val_accuracy: 0.7969\n",
            "Epoch 42/50\n",
            "17/17 [==============================] - 3s 176ms/step - loss: 0.3268 - accuracy: 0.8750 - val_loss: 0.6453 - val_accuracy: 0.8125\n",
            "Epoch 43/50\n",
            "17/17 [==============================] - 3s 177ms/step - loss: 0.2613 - accuracy: 0.8937 - val_loss: 0.6497 - val_accuracy: 0.7969\n",
            "Epoch 44/50\n",
            "17/17 [==============================] - 3s 177ms/step - loss: 0.3323 - accuracy: 0.8675 - val_loss: 0.6482 - val_accuracy: 0.7812\n",
            "Epoch 45/50\n",
            "17/17 [==============================] - 3s 176ms/step - loss: 0.2378 - accuracy: 0.9086 - val_loss: 0.5712 - val_accuracy: 0.8438\n",
            "Epoch 46/50\n",
            "17/17 [==============================] - 3s 175ms/step - loss: 0.2788 - accuracy: 0.8899 - val_loss: 0.5432 - val_accuracy: 0.8438\n",
            "Epoch 47/50\n",
            "17/17 [==============================] - 3s 174ms/step - loss: 0.2205 - accuracy: 0.9104 - val_loss: 0.6122 - val_accuracy: 0.7969\n",
            "Epoch 48/50\n",
            "17/17 [==============================] - 3s 176ms/step - loss: 0.2544 - accuracy: 0.9011 - val_loss: 0.6008 - val_accuracy: 0.8438\n",
            "Epoch 49/50\n",
            "17/17 [==============================] - 3s 175ms/step - loss: 0.2459 - accuracy: 0.9030 - val_loss: 0.5906 - val_accuracy: 0.8281\n",
            "Epoch 50/50\n",
            "17/17 [==============================] - 3s 174ms/step - loss: 0.2044 - accuracy: 0.9198 - val_loss: 0.5839 - val_accuracy: 0.8125\n"
          ],
          "name": "stdout"
        }
      ]
    },
    {
      "cell_type": "code",
      "metadata": {
        "id": "nOhKovWrbmOt",
        "colab_type": "code",
        "outputId": "b6ed22d2-9c6f-4002-de4f-9dd6d2a5f497",
        "colab": {
          "base_uri": "https://localhost:8080/",
          "height": 573
        }
      },
      "source": [
        "import matplotlib.pyplot as plt\n",
        "\n",
        "\n",
        "# Plot training & validation accuracy values\n",
        "plt.plot(hist.history['accuracy'])\n",
        "plt.plot(hist.history['val_accuracy'])\n",
        "plt.title('Model accuracy')\n",
        "plt.ylabel('Accuracy')\n",
        "plt.xlabel('Epoch')\n",
        "plt.legend(['Train', 'Validation'], loc='upper left')\n",
        "plt.ylim(0.3, 1.1)\n",
        "plt.show()\n",
        "\n",
        "# Plot training & validation loss values\n",
        "plt.plot(hist.history['loss'])\n",
        "plt.plot(hist.history['val_loss'])\n",
        "plt.title('Model loss')\n",
        "plt.ylabel('Loss')\n",
        "plt.xlabel('Epoch')\n",
        "plt.legend(['Train', 'Validation'], loc='upper left')\n",
        "plt.ylim(0,2)\n",
        "plt.show()"
      ],
      "execution_count": 0,
      "outputs": [
        {
          "output_type": "display_data",
          "data": {
            "image/png": "[encoded data removed]",
            "text/plain": [
              "<Figure size 432x288 with 1 Axes>"
            ]
          },
          "metadata": {
            "tags": []
          }
        },
        {
          "output_type": "display_data",
          "data": {
            "image/png": "[encoded data removed]",
            "text/plain": [
              "<Figure size 432x288 with 1 Axes>"
            ]
          },
          "metadata": {
            "tags": []
          }
        }
      ]
    },
    {
      "cell_type": "code",
      "metadata": {
        "colab_type": "code",
        "outputId": "49ed5654-82e4-433b-caf8-31be9dd7d055",
        "id": "Kvdp_HH6BACJ",
        "colab": {
          "base_uri": "https://localhost:8080/",
          "height": 1000
        }
      },
      "source": [
        "epochs = 100\n",
        "learning_rate = 0.0001\n",
        "\n",
        "# Compile the model\n",
        "model.compile(optimizer=tf.keras.optimizers.Adam(learning_rate=learning_rate), \n",
        "              loss='categorical_crossentropy',\n",
        "              metrics=['accuracy']\n",
        ")\n",
        "\n",
        "steps_per_epoch = round(n_train/BATCH_SIZE)\n",
        "validation_steps = round(n_val/BATCH_SIZE)\n",
        "\n",
        "hist = model.fit(train_data.repeat(), \n",
        "                 epochs=epochs,\n",
        "                 steps_per_epoch=steps_per_epoch,\n",
        "                 validation_data=val_data.repeat(),\n",
        "                 validation_steps=validation_steps,\n",
        "                 class_weight=class_weights)\n"
      ],
      "execution_count": 0,
      "outputs": [
        {
          "output_type": "stream",
          "text": [
            "Train for 17 steps, validate for 2 steps\n",
            "Epoch 1/100\n",
            "17/17 [==============================] - 7s 423ms/step - loss: 0.2595 - accuracy: 0.8993 - val_loss: 0.5657 - val_accuracy: 0.8281\n",
            "Epoch 2/100\n",
            "17/17 [==============================] - 3s 174ms/step - loss: 0.2814 - accuracy: 0.9104 - val_loss: 0.6006 - val_accuracy: 0.8281\n",
            "Epoch 3/100\n",
            "17/17 [==============================] - 3s 174ms/step - loss: 0.2100 - accuracy: 0.9104 - val_loss: 0.5864 - val_accuracy: 0.8281\n",
            "Epoch 4/100\n",
            "17/17 [==============================] - 3s 175ms/step - loss: 0.2118 - accuracy: 0.9086 - val_loss: 0.5316 - val_accuracy: 0.8281\n",
            "Epoch 5/100\n",
            "17/17 [==============================] - 3s 173ms/step - loss: 0.2119 - accuracy: 0.9142 - val_loss: 0.5536 - val_accuracy: 0.8281\n",
            "Epoch 6/100\n",
            "17/17 [==============================] - 3s 176ms/step - loss: 0.1994 - accuracy: 0.9067 - val_loss: 0.5692 - val_accuracy: 0.8125\n",
            "Epoch 7/100\n",
            "17/17 [==============================] - 3s 176ms/step - loss: 0.2008 - accuracy: 0.9160 - val_loss: 0.5473 - val_accuracy: 0.8281\n",
            "Epoch 8/100\n",
            "17/17 [==============================] - 3s 177ms/step - loss: 0.2118 - accuracy: 0.9198 - val_loss: 0.4910 - val_accuracy: 0.8438\n",
            "Epoch 9/100\n",
            "17/17 [==============================] - 3s 178ms/step - loss: 0.2248 - accuracy: 0.9123 - val_loss: 0.5502 - val_accuracy: 0.8281\n",
            "Epoch 10/100\n",
            "17/17 [==============================] - 3s 174ms/step - loss: 0.1403 - accuracy: 0.9440 - val_loss: 0.5337 - val_accuracy: 0.8438\n",
            "Epoch 11/100\n",
            "17/17 [==============================] - 3s 176ms/step - loss: 0.1757 - accuracy: 0.9384 - val_loss: 0.5253 - val_accuracy: 0.8281\n",
            "Epoch 12/100\n",
            "17/17 [==============================] - 3s 176ms/step - loss: 0.1883 - accuracy: 0.9310 - val_loss: 0.4299 - val_accuracy: 0.8438\n",
            "Epoch 13/100\n",
            "17/17 [==============================] - 3s 174ms/step - loss: 0.1742 - accuracy: 0.9254 - val_loss: 0.5242 - val_accuracy: 0.8281\n",
            "Epoch 14/100\n",
            "17/17 [==============================] - 3s 173ms/step - loss: 0.1545 - accuracy: 0.9310 - val_loss: 0.4966 - val_accuracy: 0.8438\n",
            "Epoch 15/100\n",
            "17/17 [==============================] - 3s 174ms/step - loss: 0.2168 - accuracy: 0.9104 - val_loss: 0.5096 - val_accuracy: 0.8281\n",
            "Epoch 16/100\n",
            "17/17 [==============================] - 3s 175ms/step - loss: 0.1541 - accuracy: 0.9478 - val_loss: 0.4766 - val_accuracy: 0.8594\n",
            "Epoch 17/100\n",
            "17/17 [==============================] - 3s 174ms/step - loss: 0.1379 - accuracy: 0.9478 - val_loss: 0.4991 - val_accuracy: 0.8438\n",
            "Epoch 18/100\n",
            "17/17 [==============================] - 3s 175ms/step - loss: 0.1528 - accuracy: 0.9440 - val_loss: 0.4936 - val_accuracy: 0.8438\n",
            "Epoch 19/100\n",
            "17/17 [==============================] - 3s 176ms/step - loss: 0.1254 - accuracy: 0.9459 - val_loss: 0.4127 - val_accuracy: 0.8438\n",
            "Epoch 20/100\n",
            "17/17 [==============================] - 3s 173ms/step - loss: 0.1679 - accuracy: 0.9347 - val_loss: 0.4990 - val_accuracy: 0.8281\n",
            "Epoch 21/100\n",
            "17/17 [==============================] - 3s 172ms/step - loss: 0.1563 - accuracy: 0.9459 - val_loss: 0.4667 - val_accuracy: 0.8438\n",
            "Epoch 22/100\n",
            "17/17 [==============================] - 3s 177ms/step - loss: 0.1496 - accuracy: 0.9440 - val_loss: 0.4980 - val_accuracy: 0.8438\n",
            "Epoch 23/100\n",
            "17/17 [==============================] - 3s 177ms/step - loss: 0.1361 - accuracy: 0.9496 - val_loss: 0.5126 - val_accuracy: 0.8281\n",
            "Epoch 24/100\n",
            "17/17 [==============================] - 3s 174ms/step - loss: 0.1306 - accuracy: 0.9478 - val_loss: 0.5050 - val_accuracy: 0.8281\n",
            "Epoch 25/100\n",
            "17/17 [==============================] - 3s 175ms/step - loss: 0.1251 - accuracy: 0.9571 - val_loss: 0.3994 - val_accuracy: 0.8438\n",
            "Epoch 26/100\n",
            "17/17 [==============================] - 3s 173ms/step - loss: 0.1170 - accuracy: 0.9720 - val_loss: 0.5053 - val_accuracy: 0.8281\n",
            "Epoch 27/100\n",
            "17/17 [==============================] - 3s 173ms/step - loss: 0.1406 - accuracy: 0.9440 - val_loss: 0.4937 - val_accuracy: 0.8281\n",
            "Epoch 28/100\n",
            "17/17 [==============================] - 3s 173ms/step - loss: 0.1284 - accuracy: 0.9534 - val_loss: 0.4909 - val_accuracy: 0.8281\n",
            "Epoch 29/100\n",
            "17/17 [==============================] - 3s 174ms/step - loss: 0.1315 - accuracy: 0.9515 - val_loss: 0.4804 - val_accuracy: 0.8281\n",
            "Epoch 30/100\n",
            "17/17 [==============================] - 3s 177ms/step - loss: 0.1085 - accuracy: 0.9552 - val_loss: 0.3871 - val_accuracy: 0.8438\n",
            "Epoch 31/100\n",
            "17/17 [==============================] - 3s 176ms/step - loss: 0.1391 - accuracy: 0.9534 - val_loss: 0.4852 - val_accuracy: 0.8281\n",
            "Epoch 32/100\n",
            "17/17 [==============================] - 3s 176ms/step - loss: 0.1207 - accuracy: 0.9571 - val_loss: 0.4508 - val_accuracy: 0.8438\n",
            "Epoch 33/100\n",
            "17/17 [==============================] - 3s 176ms/step - loss: 0.1321 - accuracy: 0.9552 - val_loss: 0.4746 - val_accuracy: 0.8281\n",
            "Epoch 34/100\n",
            "17/17 [==============================] - 3s 175ms/step - loss: 0.1251 - accuracy: 0.9515 - val_loss: 0.4729 - val_accuracy: 0.8281\n",
            "Epoch 35/100\n",
            "17/17 [==============================] - 3s 174ms/step - loss: 0.1592 - accuracy: 0.9496 - val_loss: 0.4383 - val_accuracy: 0.8438\n",
            "Epoch 36/100\n",
            "17/17 [==============================] - 3s 176ms/step - loss: 0.1299 - accuracy: 0.9534 - val_loss: 0.4606 - val_accuracy: 0.8438\n",
            "Epoch 37/100\n",
            "17/17 [==============================] - 3s 183ms/step - loss: 0.1443 - accuracy: 0.9459 - val_loss: 0.4627 - val_accuracy: 0.8281\n",
            "Epoch 38/100\n",
            "17/17 [==============================] - 3s 181ms/step - loss: 0.1070 - accuracy: 0.9590 - val_loss: 0.5004 - val_accuracy: 0.8438\n",
            "Epoch 39/100\n",
            "17/17 [==============================] - 3s 180ms/step - loss: 0.1418 - accuracy: 0.9403 - val_loss: 0.4681 - val_accuracy: 0.8281\n",
            "Epoch 40/100\n",
            "17/17 [==============================] - 3s 176ms/step - loss: 0.0988 - accuracy: 0.9646 - val_loss: 0.4465 - val_accuracy: 0.8438\n",
            "Epoch 41/100\n",
            "17/17 [==============================] - 3s 174ms/step - loss: 0.1164 - accuracy: 0.9571 - val_loss: 0.4711 - val_accuracy: 0.8438\n",
            "Epoch 42/100\n",
            "17/17 [==============================] - 3s 174ms/step - loss: 0.0946 - accuracy: 0.9664 - val_loss: 0.4450 - val_accuracy: 0.8438\n",
            "Epoch 43/100\n",
            "17/17 [==============================] - 3s 175ms/step - loss: 0.1108 - accuracy: 0.9571 - val_loss: 0.4640 - val_accuracy: 0.8281\n",
            "Epoch 44/100\n",
            "17/17 [==============================] - 3s 175ms/step - loss: 0.1071 - accuracy: 0.9683 - val_loss: 0.4315 - val_accuracy: 0.8594\n",
            "Epoch 45/100\n",
            "17/17 [==============================] - 3s 176ms/step - loss: 0.1344 - accuracy: 0.9459 - val_loss: 0.4211 - val_accuracy: 0.8594\n",
            "Epoch 46/100\n",
            "17/17 [==============================] - 3s 175ms/step - loss: 0.1168 - accuracy: 0.9590 - val_loss: 0.4076 - val_accuracy: 0.8750\n",
            "Epoch 47/100\n",
            "17/17 [==============================] - 3s 176ms/step - loss: 0.1243 - accuracy: 0.9534 - val_loss: 0.4531 - val_accuracy: 0.8438\n",
            "Epoch 48/100\n",
            "17/17 [==============================] - 3s 175ms/step - loss: 0.0811 - accuracy: 0.9720 - val_loss: 0.4347 - val_accuracy: 0.8594\n",
            "Epoch 49/100\n",
            "17/17 [==============================] - 3s 173ms/step - loss: 0.1148 - accuracy: 0.9571 - val_loss: 0.4357 - val_accuracy: 0.8594\n",
            "Epoch 50/100\n",
            "17/17 [==============================] - 3s 175ms/step - loss: 0.1197 - accuracy: 0.9552 - val_loss: 0.4223 - val_accuracy: 0.8438\n",
            "Epoch 51/100\n",
            "17/17 [==============================] - 3s 177ms/step - loss: 0.0805 - accuracy: 0.9757 - val_loss: 0.4190 - val_accuracy: 0.8594\n",
            "Epoch 52/100\n",
            "17/17 [==============================] - 3s 178ms/step - loss: 0.0996 - accuracy: 0.9701 - val_loss: 0.4029 - val_accuracy: 0.8594\n",
            "Epoch 53/100\n",
            "17/17 [==============================] - 3s 176ms/step - loss: 0.0975 - accuracy: 0.9627 - val_loss: 0.4622 - val_accuracy: 0.8438\n",
            "Epoch 54/100\n",
            "17/17 [==============================] - 3s 176ms/step - loss: 0.0788 - accuracy: 0.9757 - val_loss: 0.4332 - val_accuracy: 0.8438\n",
            "Epoch 55/100\n",
            "17/17 [==============================] - 3s 172ms/step - loss: 0.0834 - accuracy: 0.9701 - val_loss: 0.4158 - val_accuracy: 0.8594\n",
            "Epoch 56/100\n",
            "17/17 [==============================] - 3s 175ms/step - loss: 0.1111 - accuracy: 0.9608 - val_loss: 0.3456 - val_accuracy: 0.8594\n",
            "Epoch 57/100\n",
            "17/17 [==============================] - 3s 173ms/step - loss: 0.0879 - accuracy: 0.9701 - val_loss: 0.3998 - val_accuracy: 0.8438\n",
            "Epoch 58/100\n",
            "17/17 [==============================] - 3s 173ms/step - loss: 0.0764 - accuracy: 0.9757 - val_loss: 0.4474 - val_accuracy: 0.8438\n",
            "Epoch 59/100\n",
            "17/17 [==============================] - 3s 170ms/step - loss: 0.0842 - accuracy: 0.9757 - val_loss: 0.4521 - val_accuracy: 0.8438\n",
            "Epoch 60/100\n",
            "17/17 [==============================] - 3s 174ms/step - loss: 0.0826 - accuracy: 0.9776 - val_loss: 0.4092 - val_accuracy: 0.8594\n",
            "Epoch 61/100\n",
            "17/17 [==============================] - 3s 174ms/step - loss: 0.0945 - accuracy: 0.9627 - val_loss: 0.4290 - val_accuracy: 0.8594\n",
            "Epoch 62/100\n",
            "17/17 [==============================] - 3s 174ms/step - loss: 0.0821 - accuracy: 0.9739 - val_loss: 0.4316 - val_accuracy: 0.8594\n",
            "Epoch 63/100\n",
            "17/17 [==============================] - 3s 172ms/step - loss: 0.0911 - accuracy: 0.9627 - val_loss: 0.4193 - val_accuracy: 0.8594\n",
            "Epoch 64/100\n",
            "17/17 [==============================] - 3s 173ms/step - loss: 0.0926 - accuracy: 0.9739 - val_loss: 0.4242 - val_accuracy: 0.8438\n",
            "Epoch 65/100\n",
            "17/17 [==============================] - 3s 174ms/step - loss: 0.0745 - accuracy: 0.9720 - val_loss: 0.4297 - val_accuracy: 0.8438\n",
            "Epoch 66/100\n",
            "17/17 [==============================] - 3s 170ms/step - loss: 0.0880 - accuracy: 0.9739 - val_loss: 0.3822 - val_accuracy: 0.8750\n",
            "Epoch 67/100\n",
            "17/17 [==============================] - 3s 175ms/step - loss: 0.0765 - accuracy: 0.9701 - val_loss: 0.4293 - val_accuracy: 0.8594\n",
            "Epoch 68/100\n",
            "17/17 [==============================] - 3s 178ms/step - loss: 0.0583 - accuracy: 0.9851 - val_loss: 0.3799 - val_accuracy: 0.8594\n",
            "Epoch 69/100\n",
            "17/17 [==============================] - 3s 177ms/step - loss: 0.0902 - accuracy: 0.9720 - val_loss: 0.4010 - val_accuracy: 0.8750\n",
            "Epoch 70/100\n",
            "17/17 [==============================] - 3s 174ms/step - loss: 0.0715 - accuracy: 0.9795 - val_loss: 0.4225 - val_accuracy: 0.8594\n",
            "Epoch 71/100\n",
            "17/17 [==============================] - 3s 174ms/step - loss: 0.0801 - accuracy: 0.9720 - val_loss: 0.4154 - val_accuracy: 0.8438\n",
            "Epoch 72/100\n",
            "17/17 [==============================] - 3s 172ms/step - loss: 0.0967 - accuracy: 0.9664 - val_loss: 0.4286 - val_accuracy: 0.8438\n",
            "Epoch 73/100\n",
            "17/17 [==============================] - 3s 172ms/step - loss: 0.0894 - accuracy: 0.9590 - val_loss: 0.3027 - val_accuracy: 0.8750\n",
            "Epoch 74/100\n",
            "17/17 [==============================] - 3s 172ms/step - loss: 0.0683 - accuracy: 0.9776 - val_loss: 0.4340 - val_accuracy: 0.8438\n",
            "Epoch 75/100\n",
            "17/17 [==============================] - 3s 173ms/step - loss: 0.0899 - accuracy: 0.9720 - val_loss: 0.3860 - val_accuracy: 0.8750\n",
            "Epoch 76/100\n",
            "17/17 [==============================] - 3s 173ms/step - loss: 0.0700 - accuracy: 0.9776 - val_loss: 0.4116 - val_accuracy: 0.8594\n",
            "Epoch 77/100\n",
            "17/17 [==============================] - 3s 173ms/step - loss: 0.0701 - accuracy: 0.9832 - val_loss: 0.3777 - val_accuracy: 0.8594\n",
            "Epoch 78/100\n",
            "17/17 [==============================] - 3s 174ms/step - loss: 0.0688 - accuracy: 0.9776 - val_loss: 0.4427 - val_accuracy: 0.8438\n",
            "Epoch 79/100\n",
            "17/17 [==============================] - 3s 176ms/step - loss: 0.0816 - accuracy: 0.9739 - val_loss: 0.4197 - val_accuracy: 0.8594\n",
            "Epoch 80/100\n",
            "17/17 [==============================] - 3s 173ms/step - loss: 0.0637 - accuracy: 0.9832 - val_loss: 0.4181 - val_accuracy: 0.8438\n",
            "Epoch 81/100\n",
            "17/17 [==============================] - 3s 173ms/step - loss: 0.0633 - accuracy: 0.9776 - val_loss: 0.4007 - val_accuracy: 0.8594\n",
            "Epoch 82/100\n",
            "17/17 [==============================] - 3s 174ms/step - loss: 0.0705 - accuracy: 0.9757 - val_loss: 0.4016 - val_accuracy: 0.8594\n",
            "Epoch 83/100\n",
            "17/17 [==============================] - 3s 174ms/step - loss: 0.0797 - accuracy: 0.9683 - val_loss: 0.4203 - val_accuracy: 0.8438\n",
            "Epoch 84/100\n",
            "17/17 [==============================] - 3s 176ms/step - loss: 0.0874 - accuracy: 0.9701 - val_loss: 0.3998 - val_accuracy: 0.8750\n",
            "Epoch 85/100\n",
            "17/17 [==============================] - 3s 176ms/step - loss: 0.0712 - accuracy: 0.9757 - val_loss: 0.4252 - val_accuracy: 0.8594\n",
            "Epoch 86/100\n",
            "17/17 [==============================] - 3s 177ms/step - loss: 0.0482 - accuracy: 0.9832 - val_loss: 0.4300 - val_accuracy: 0.8438\n",
            "Epoch 87/100\n",
            "17/17 [==============================] - 3s 174ms/step - loss: 0.0875 - accuracy: 0.9720 - val_loss: 0.4179 - val_accuracy: 0.8750\n",
            "Epoch 88/100\n",
            "17/17 [==============================] - 3s 176ms/step - loss: 0.1154 - accuracy: 0.9571 - val_loss: 0.3549 - val_accuracy: 0.8906\n",
            "Epoch 89/100\n",
            "17/17 [==============================] - 3s 177ms/step - loss: 0.0820 - accuracy: 0.9720 - val_loss: 0.4122 - val_accuracy: 0.8594\n",
            "Epoch 90/100\n",
            "17/17 [==============================] - 3s 174ms/step - loss: 0.0437 - accuracy: 0.9851 - val_loss: 0.4235 - val_accuracy: 0.8438\n",
            "Epoch 91/100\n",
            "17/17 [==============================] - 3s 175ms/step - loss: 0.0624 - accuracy: 0.9739 - val_loss: 0.3804 - val_accuracy: 0.8594\n",
            "Epoch 92/100\n",
            "17/17 [==============================] - 3s 176ms/step - loss: 0.0731 - accuracy: 0.9739 - val_loss: 0.4129 - val_accuracy: 0.8594\n",
            "Epoch 93/100\n",
            "17/17 [==============================] - 3s 177ms/step - loss: 0.0727 - accuracy: 0.9683 - val_loss: 0.4225 - val_accuracy: 0.8438\n",
            "Epoch 94/100\n",
            "17/17 [==============================] - 3s 177ms/step - loss: 0.0662 - accuracy: 0.9813 - val_loss: 0.4065 - val_accuracy: 0.8594\n",
            "Epoch 95/100\n",
            "17/17 [==============================] - 3s 176ms/step - loss: 0.0711 - accuracy: 0.9757 - val_loss: 0.3641 - val_accuracy: 0.8906\n",
            "Epoch 96/100\n",
            "17/17 [==============================] - 3s 175ms/step - loss: 0.0803 - accuracy: 0.9720 - val_loss: 0.3839 - val_accuracy: 0.8750\n",
            "Epoch 97/100\n",
            "17/17 [==============================] - 3s 172ms/step - loss: 0.0444 - accuracy: 0.9851 - val_loss: 0.3626 - val_accuracy: 0.8906\n",
            "Epoch 98/100\n",
            "17/17 [==============================] - 3s 173ms/step - loss: 0.0845 - accuracy: 0.9701 - val_loss: 0.4054 - val_accuracy: 0.8594\n",
            "Epoch 99/100\n",
            "17/17 [==============================] - 3s 173ms/step - loss: 0.0718 - accuracy: 0.9739 - val_loss: 0.4019 - val_accuracy: 0.8750\n",
            "Epoch 100/100\n",
            "17/17 [==============================] - 3s 173ms/step - loss: 0.0712 - accuracy: 0.9720 - val_loss: 0.3834 - val_accuracy: 0.8750\n"
          ],
          "name": "stdout"
        }
      ]
    },
    {
      "cell_type": "code",
      "metadata": {
        "colab_type": "code",
        "outputId": "8745f476-32b2-4560-85fe-080f46e33354",
        "id": "zPuz9F25CTaO",
        "colab": {
          "base_uri": "https://localhost:8080/",
          "height": 573
        }
      },
      "source": [
        "import matplotlib.pyplot as plt\n",
        "\n",
        "\n",
        "# Plot training & validation accuracy values\n",
        "plt.plot(hist.history['accuracy'])\n",
        "plt.plot(hist.history['val_accuracy'])\n",
        "plt.title('Model accuracy')\n",
        "plt.ylabel('Accuracy')\n",
        "plt.xlabel('Epoch')\n",
        "plt.legend(['Train', 'Validation'], loc='upper left')\n",
        "plt.ylim(0.3, 1.1)\n",
        "plt.show()\n",
        "\n",
        "# Plot training & validation loss values\n",
        "plt.plot(hist.history['loss'])\n",
        "plt.plot(hist.history['val_loss'])\n",
        "plt.title('Model loss')\n",
        "plt.ylabel('Loss')\n",
        "plt.xlabel('Epoch')\n",
        "plt.legend(['Train', 'Validation'], loc='upper left')\n",
        "plt.ylim(0,2)\n",
        "plt.show()"
      ],
      "execution_count": 0,
      "outputs": [
        {
          "output_type": "display_data",
          "data": {
            "image/png": "[encoded data removed]",
            "text/plain": [
              "<Figure size 432x288 with 1 Axes>"
            ]
          },
          "metadata": {
            "tags": []
          }
        },
        {
          "output_type": "display_data",
          "data": {
            "image/png": "[encoded data removed]",
            "text/plain": [
              "<Figure size 432x288 with 1 Axes>"
            ]
          },
          "metadata": {
            "tags": []
          }
        }
      ]
    },
    {
      "cell_type": "code",
      "metadata": {
        "id": "-0KOIhBX8n7U",
        "colab_type": "code",
        "outputId": "6e42d540-d1c5-4388-c684-cafd6cc9c846",
        "colab": {
          "base_uri": "https://localhost:8080/",
          "height": 1000
        }
      },
      "source": [
        "import numpy as np\n",
        "\n",
        "x_data = []\n",
        "y_data = []\n",
        "for x, y in test_data.repeat(1):\n",
        "    x_data.append(x)\n",
        "    y_data.append(y)\n",
        "\n",
        "x_data = np.vstack(x_data).reshape(-1,96,96,3)\n",
        "predictions = model.predict_classes(x_data)\n",
        "\n",
        "for i in range(len(y_data)):\n",
        "    print(y_data[i], predictions[i])\n"
      ],
      "execution_count": 0,
      "outputs": [
        {
          "output_type": "stream",
          "text": [
            "tf.Tensor([0. 1. 0.], shape=(3,), dtype=float32) 2\n",
            "tf.Tensor([0. 1. 0.], shape=(3,), dtype=float32) 1\n",
            "tf.Tensor([0. 1. 0.], shape=(3,), dtype=float32) 1\n",
            "tf.Tensor([0. 1. 0.], shape=(3,), dtype=float32) 2\n",
            "tf.Tensor([0. 1. 0.], shape=(3,), dtype=float32) 1\n",
            "tf.Tensor([0. 1. 0.], shape=(3,), dtype=float32) 1\n",
            "tf.Tensor([0. 1. 0.], shape=(3,), dtype=float32) 2\n",
            "tf.Tensor([0. 1. 0.], shape=(3,), dtype=float32) 2\n",
            "tf.Tensor([0. 1. 0.], shape=(3,), dtype=float32) 2\n",
            "tf.Tensor([0. 1. 0.], shape=(3,), dtype=float32) 2\n",
            "tf.Tensor([0. 1. 0.], shape=(3,), dtype=float32) 1\n",
            "tf.Tensor([0. 1. 0.], shape=(3,), dtype=float32) 1\n",
            "tf.Tensor([0. 1. 0.], shape=(3,), dtype=float32) 1\n",
            "tf.Tensor([0. 1. 0.], shape=(3,), dtype=float32) 0\n",
            "tf.Tensor([0. 1. 0.], shape=(3,), dtype=float32) 1\n",
            "tf.Tensor([0. 1. 0.], shape=(3,), dtype=float32) 2\n",
            "tf.Tensor([1. 0. 0.], shape=(3,), dtype=float32) 0\n",
            "tf.Tensor([1. 0. 0.], shape=(3,), dtype=float32) 0\n",
            "tf.Tensor([1. 0. 0.], shape=(3,), dtype=float32) 0\n",
            "tf.Tensor([1. 0. 0.], shape=(3,), dtype=float32) 0\n",
            "tf.Tensor([1. 0. 0.], shape=(3,), dtype=float32) 0\n",
            "tf.Tensor([1. 0. 0.], shape=(3,), dtype=float32) 0\n",
            "tf.Tensor([1. 0. 0.], shape=(3,), dtype=float32) 0\n",
            "tf.Tensor([1. 0. 0.], shape=(3,), dtype=float32) 0\n",
            "tf.Tensor([1. 0. 0.], shape=(3,), dtype=float32) 0\n",
            "tf.Tensor([1. 0. 0.], shape=(3,), dtype=float32) 0\n",
            "tf.Tensor([1. 0. 0.], shape=(3,), dtype=float32) 0\n",
            "tf.Tensor([1. 0. 0.], shape=(3,), dtype=float32) 0\n",
            "tf.Tensor([1. 0. 0.], shape=(3,), dtype=float32) 0\n",
            "tf.Tensor([0. 0. 1.], shape=(3,), dtype=float32) 2\n",
            "tf.Tensor([0. 0. 1.], shape=(3,), dtype=float32) 2\n",
            "tf.Tensor([0. 0. 1.], shape=(3,), dtype=float32) 2\n",
            "tf.Tensor([0. 0. 1.], shape=(3,), dtype=float32) 2\n",
            "tf.Tensor([0. 0. 1.], shape=(3,), dtype=float32) 2\n",
            "tf.Tensor([0. 0. 1.], shape=(3,), dtype=float32) 2\n",
            "tf.Tensor([0. 0. 1.], shape=(3,), dtype=float32) 2\n",
            "tf.Tensor([0. 0. 1.], shape=(3,), dtype=float32) 2\n",
            "tf.Tensor([0. 0. 1.], shape=(3,), dtype=float32) 2\n",
            "tf.Tensor([0. 0. 1.], shape=(3,), dtype=float32) 2\n",
            "tf.Tensor([0. 0. 1.], shape=(3,), dtype=float32) 1\n",
            "tf.Tensor([0. 0. 1.], shape=(3,), dtype=float32) 2\n",
            "tf.Tensor([0. 0. 1.], shape=(3,), dtype=float32) 2\n",
            "tf.Tensor([0. 0. 1.], shape=(3,), dtype=float32) 2\n",
            "tf.Tensor([0. 0. 1.], shape=(3,), dtype=float32) 2\n",
            "tf.Tensor([0. 0. 1.], shape=(3,), dtype=float32) 2\n",
            "tf.Tensor([0. 0. 1.], shape=(3,), dtype=float32) 2\n",
            "tf.Tensor([0. 0. 1.], shape=(3,), dtype=float32) 2\n",
            "tf.Tensor([0. 0. 1.], shape=(3,), dtype=float32) 2\n",
            "tf.Tensor([0. 0. 1.], shape=(3,), dtype=float32) 1\n",
            "tf.Tensor([0. 0. 1.], shape=(3,), dtype=float32) 2\n",
            "tf.Tensor([0. 0. 1.], shape=(3,), dtype=float32) 2\n",
            "tf.Tensor([0. 0. 1.], shape=(3,), dtype=float32) 2\n",
            "tf.Tensor([0. 0. 1.], shape=(3,), dtype=float32) 2\n",
            "tf.Tensor([0. 0. 1.], shape=(3,), dtype=float32) 2\n",
            "tf.Tensor([0. 0. 1.], shape=(3,), dtype=float32) 2\n",
            "tf.Tensor([0. 0. 1.], shape=(3,), dtype=float32) 2\n",
            "tf.Tensor([0. 0. 1.], shape=(3,), dtype=float32) 2\n",
            "tf.Tensor([0. 0. 1.], shape=(3,), dtype=float32) 2\n",
            "tf.Tensor([0. 0. 1.], shape=(3,), dtype=float32) 2\n",
            "tf.Tensor([0. 0. 1.], shape=(3,), dtype=float32) 2\n",
            "tf.Tensor([0. 0. 1.], shape=(3,), dtype=float32) 2\n",
            "tf.Tensor([0. 0. 1.], shape=(3,), dtype=float32) 1\n",
            "tf.Tensor([0. 0. 1.], shape=(3,), dtype=float32) 2\n",
            "tf.Tensor([0. 0. 1.], shape=(3,), dtype=float32) 2\n",
            "tf.Tensor([0. 0. 1.], shape=(3,), dtype=float32) 2\n",
            "tf.Tensor([0. 0. 1.], shape=(3,), dtype=float32) 2\n"
          ],
          "name": "stdout"
        }
      ]
    },
    {
      "cell_type": "code",
      "metadata": {
        "id": "hAdQCVhwaJBC",
        "colab_type": "code",
        "colab": {}
      },
      "source": [
        "model.save('drive/My Drive/Colab Notebooks/grocery-categories-v05-a.h5')\n",
        "model.save_weights('drive/My Drive/Colab Notebooks/grocery-categories-v05-a.weights.h5')"
      ],
      "execution_count": 0,
      "outputs": []
    },
    {
      "cell_type": "code",
      "metadata": {
        "id": "MHWvwkCpDH_E",
        "colab_type": "code",
        "colab": {}
      },
      "source": [
        ""
      ],
      "execution_count": 0,
      "outputs": []
    }
  ]
}