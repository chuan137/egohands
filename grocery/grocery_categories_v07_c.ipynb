{
  "nbformat": 4,
  "nbformat_minor": 0,
  "metadata": {
    "colab": {
      "name": "grocery-categories-v07-c.ipynb",
      "provenance": [],
      "collapsed_sections": [],
      "toc_visible": true,
      "include_colab_link": true
    },
    "kernelspec": {
      "name": "python3",
      "display_name": "Python 3"
    },
    "accelerator": "GPU"
  },
  "cells": [
    {
      "cell_type": "markdown",
      "metadata": {
        "id": "view-in-github",
        "colab_type": "text"
      },
      "source": [
        "<a href=\"https://colab.research.google.com/github/chuan137/egohands/blob/master/grocery/grocery_categories_v07_c.ipynb\" target=\"_parent\"><img src=\"https://colab.research.google.com/assets/colab-badge.svg\" alt=\"Open In Colab\"/></a>"
      ]
    },
    {
      "cell_type": "markdown",
      "metadata": {
        "id": "3yo3Q73Saai1",
        "colab_type": "text"
      },
      "source": [
        "## Note\n",
        "\n",
        "__Description__ \n",
        "\n",
        "__Update__ \n",
        "* use orignal png images\n",
        "* use **image data generator** for augmentation, and splitting validation and train data"
      ]
    },
    {
      "cell_type": "markdown",
      "metadata": {
        "id": "1qqone641roL",
        "colab_type": "text"
      },
      "source": [
        "### Training details\n",
        "\n",
        "**Train data**\n",
        "* 3 categories: BEANS, CAKE, CANDY \n",
        "* image size 224\n",
        "\n",
        "**Architecture**\n",
        "* one fully connected layer\n",
        "* prediction layer with L2 regularizer\n",
        "\n",
        "**Hyper parameters**\n",
        "* softmax layer with regularizer, weight = 0.0001\n",
        "* optimizer Adam, learning rate 0.001\n"
      ]
    },
    {
      "cell_type": "markdown",
      "metadata": {
        "id": "1I2iCuFUaYLN",
        "colab_type": "text"
      },
      "source": [
        "## Prepare"
      ]
    },
    {
      "cell_type": "code",
      "metadata": {
        "id": "ItuoQ_0d5DRX",
        "colab_type": "code",
        "outputId": "d6de1498-a2e6-44c0-c2f2-110e7c8ca4b5",
        "colab": {
          "base_uri": "https://localhost:8080/",
          "height": 125
        }
      },
      "source": [
        "from google.colab import drive\n",
        "drive.mount('/content/drive')"
      ],
      "execution_count": 1,
      "outputs": [
        {
          "output_type": "stream",
          "text": [
            "Go to this URL in a browser: https://accounts.google.com/o/oauth2/auth?client_id=947318989803-6bn6qk8qdgf4n4g3pfee6491hc0brc4i.apps.googleusercontent.com&redirect_uri=urn%3aietf%3awg%3aoauth%3a2.0%3aoob&response_type=code&scope=email%20https%3a%2f%2fwww.googleapis.com%2fauth%2fdocs.test%20https%3a%2f%2fwww.googleapis.com%2fauth%2fdrive%20https%3a%2f%2fwww.googleapis.com%2fauth%2fdrive.photos.readonly%20https%3a%2f%2fwww.googleapis.com%2fauth%2fpeopleapi.readonly\n",
            "\n",
            "Enter your authorization code:\n",
            "··········\n",
            "Mounted at /content/drive\n"
          ],
          "name": "stdout"
        }
      ]
    },
    {
      "cell_type": "code",
      "metadata": {
        "id": "MTbsckzr5_Ej",
        "colab_type": "code",
        "colab": {}
      },
      "source": [
        "%cp /content/drive/My\\ Drive/freiburg_groceries_dataset.zip .\n",
        "!unzip -q freiburg_groceries_dataset.zip"
      ],
      "execution_count": 0,
      "outputs": []
    },
    {
      "cell_type": "markdown",
      "metadata": {
        "id": "Mr5Ug_gW_Z66",
        "colab_type": "text"
      },
      "source": [
        "## Load Data"
      ]
    },
    {
      "cell_type": "code",
      "metadata": {
        "id": "AIGaFb0tEYrk",
        "colab_type": "code",
        "outputId": "6b0bffe6-d708-4336-a1bf-0662c263b15c",
        "colab": {
          "base_uri": "https://localhost:8080/",
          "height": 52
        }
      },
      "source": [
        "%tensorflow_version 2.x\n",
        "import tensorflow as tf\n",
        "print(tf.__version__)"
      ],
      "execution_count": 3,
      "outputs": [
        {
          "output_type": "stream",
          "text": [
            "TensorFlow 2.x selected.\n",
            "2.0.0\n"
          ],
          "name": "stdout"
        }
      ]
    },
    {
      "cell_type": "code",
      "metadata": {
        "id": "CEivNnFUSp5b",
        "colab_type": "code",
        "outputId": "e56fd987-f7f2-4c7b-fffc-b146d002fb85",
        "colab": {
          "base_uri": "https://localhost:8080/",
          "height": 52
        }
      },
      "source": [
        "# CLASSES = ['BEANS', 'CAKE', 'CANDY', 'MILK', 'TEA', 'COFFEE']\n",
        "CLASSES = ['CANDY', 'COFFEE']\n",
        "SEED = 7876\n",
        "\n",
        "\n",
        "# split images into train/validation/test directories\n",
        "import os\n",
        "import random\n",
        "from shutil import rmtree, copyfile\n",
        "\n",
        "random.seed(SEED)\n",
        "\n",
        "def split_images(imgdir, \n",
        "                 splits=(0.7,0.2,0.1), \n",
        "                 traindir='./images_train', \n",
        "                 valdir='./images_validation', \n",
        "                 testdir='./images_test' ):\n",
        "    # remove and recreate train/val/test dir\n",
        "    if os.path.exists(traindir):\n",
        "        rmtree(traindir)\n",
        "    if os.path.exists(valdir):\n",
        "        rmtree(valdir)\n",
        "    if os.path.exists(testdir):\n",
        "        rmtree(testdir)\n",
        "    os.mkdir(traindir)\n",
        "    os.mkdir(valdir)\n",
        "    os.mkdir(testdir)\n",
        "\n",
        "    for cls in CLASSES:\n",
        "        if os.path.exists(os.path.join(traindir, cls)):\n",
        "            rmtree(os.path.join(traindir, cls))\n",
        "        if os.path.exists(os.path.join(valdir, cls)):\n",
        "            rmtree(os.path.join(valdir, cls))\n",
        "        if os.path.exists(os.path.join(testdir, cls)):\n",
        "            rmtree(os.path.join(testdir, cls))\n",
        "        os.mkdir(os.path.join(traindir, cls))\n",
        "        os.mkdir(os.path.join(valdir, cls))\n",
        "        os.mkdir(os.path.join(testdir, cls))\n",
        "     \n",
        "     # shuffle original images and copy them to target directories\n",
        "    for cls in CLASSES:\n",
        "        images = []\n",
        "        for filename in os.listdir(os.path.join(imgdir, cls)):\n",
        "            p = os.path.join(cls, filename)\n",
        "            images.append(p)\n",
        "        random.shuffle(images)\n",
        "        n = len(images)\n",
        "        n1 = round(splits[0]*n)\n",
        "        n2 = n1 + round(splits[1]*n)\n",
        "        print('split images of CLASS %s in (train, validation, test): (%d, %d, %d)' % (cls, n1, n2-n1, n - n2))\n",
        "        for p in images[:n1]:\n",
        "            copyfile(os.path.join(imgdir, p), os.path.join(traindir, p))\n",
        "        for p in images[n1:n2]:\n",
        "            copyfile(os.path.join(imgdir, p), os.path.join(valdir, p))\n",
        "        for p in images[n2:]:\n",
        "            copyfile(os.path.join(imgdir, p), os.path.join(testdir, p))\n",
        "\n",
        "split_images('./images')"
      ],
      "execution_count": 28,
      "outputs": [
        {
          "output_type": "stream",
          "text": [
            "split images of CLASS CANDY in (train, validation, test): (260, 74, 38)\n",
            "split images of CLASS COFFEE in (train, validation, test): (209, 60, 29)\n"
          ],
          "name": "stdout"
        }
      ]
    },
    {
      "cell_type": "code",
      "metadata": {
        "id": "Qw24dpUCSUO0",
        "colab_type": "code",
        "colab": {}
      },
      "source": [
        "# Parameters\n",
        "file_descriptor = 'v07-c'\n",
        "IMAGE_SIZE = 224\n",
        "BATCH_SIZE = 32\n",
        "\n",
        "# Training hyper parameter\n",
        "# algorithm: 'rms' or 'adam'\n",
        "train_algo = 'rms'\n",
        "dropout_rate = 0.2\n",
        "learning_rate = 0.0001\n",
        "w_l2 = 0.00001\n",
        "\n",
        "#\n",
        "n_classes = len(CLASSES)"
      ],
      "execution_count": 0,
      "outputs": []
    },
    {
      "cell_type": "code",
      "metadata": {
        "id": "M_7y9d-GXuDc",
        "colab_type": "code",
        "outputId": "3093ae36-a4e9-4851-d236-a78c8955e02e",
        "colab": {
          "base_uri": "https://localhost:8080/",
          "height": 52
        }
      },
      "source": [
        "# output files\n",
        "base_dir = 'drive/My Drive/Colab Notebooks/grocery'\n",
        "def save_filenames(base_network_name, test_descriptor, param, precision):\n",
        "    descriptor = base_dir + '/' + base_network_name + '_' + test_descriptor + '_'\n",
        "    name_csv = descriptor + str(round(param, precision)) + '.csv'\n",
        "    name_weights = descriptor + str(round(param, precision)) + '.h5'\n",
        "    return name_csv, name_weights\n",
        "\n",
        "descriptor = file_descriptor + '-' + str(IMAGE_SIZE) + '-' + train_algo\n",
        "file_csv, file_weights = save_filenames('MobileNetV2', descriptor, learning_rate, 6)\n",
        "print(file_csv)\n",
        "print(file_weights)"
      ],
      "execution_count": 45,
      "outputs": [
        {
          "output_type": "stream",
          "text": [
            "drive/My Drive/Colab Notebooks/grocery/MobileNetV2_v07-c-224-rms_0.0001.csv\n",
            "drive/My Drive/Colab Notebooks/grocery/MobileNetV2_v07-c-224-rms_0.0001.h5\n"
          ],
          "name": "stdout"
        }
      ]
    },
    {
      "cell_type": "code",
      "metadata": {
        "id": "wVmPy2jBadjm",
        "colab_type": "code",
        "outputId": "ade75a68-2a65-4d30-c1d3-969188947bfe",
        "colab": {
          "base_uri": "https://localhost:8080/",
          "height": 52
        }
      },
      "source": [
        "# data generator for training\n",
        "from tensorflow.keras.preprocessing.image import ImageDataGenerator\n",
        "\n",
        "datagen_train = ImageDataGenerator(\n",
        "    rescale=1./255, \n",
        "    shear_range=0.2, \n",
        "    rotation_range=10, \n",
        "    horizontal_flip=True)\n",
        "\n",
        "datagen_val_test = ImageDataGenerator(rescale=1./255)\n",
        "\n",
        "train_generator = datagen_train.flow_from_directory(\n",
        "    './images_train',\n",
        "    target_size=(IMAGE_SIZE, IMAGE_SIZE),\n",
        "    batch_size=BATCH_SIZE,\n",
        "    classes=CLASSES,\n",
        "    class_mode='categorical',\n",
        "    shuffle=True\n",
        ")\n",
        "\n",
        "val_generator = datagen_val_test.flow_from_directory(\n",
        "    './images_validation',\n",
        "    target_size=(IMAGE_SIZE, IMAGE_SIZE),\n",
        "    batch_size=BATCH_SIZE,\n",
        "    classes=CLASSES,\n",
        "    class_mode='categorical',\n",
        "    shuffle=True\n",
        ")\n"
      ],
      "execution_count": 31,
      "outputs": [
        {
          "output_type": "stream",
          "text": [
            "Found 469 images belonging to 2 classes.\n",
            "Found 134 images belonging to 2 classes.\n"
          ],
          "name": "stdout"
        }
      ]
    },
    {
      "cell_type": "code",
      "metadata": {
        "id": "WAD9YtrccSz9",
        "colab_type": "code",
        "outputId": "617bfc7b-62ef-498e-90e8-dffdadb0c8ac",
        "colab": {
          "base_uri": "https://localhost:8080/",
          "height": 336
        }
      },
      "source": [
        "# Pre-trained model with MobileNetV2\n",
        "base_model = tf.keras.applications.MobileNetV2(\n",
        "    input_shape=(IMAGE_SIZE, IMAGE_SIZE, 3),\n",
        "    include_top=False,\n",
        "    weights='imagenet'\n",
        ")\n",
        "\n",
        "# Freeze the pre-trained model weights\n",
        "base_model.trainable = False\n",
        "\n",
        "# Trainable classification head\n",
        "maxpool_layer = tf.keras.layers.GlobalMaxPooling2D()\n",
        "fc_layer_1 = tf.keras.layers.Dense(1280, activation='relu')\n",
        "dropout_layer = tf.keras.layers.Dropout(dropout_rate)\n",
        "\n",
        "# Prediction\n",
        "prediction_layer = tf.keras.layers.Dense(\n",
        "        n_classes,\n",
        "        activation='softmax',\n",
        "        # kernel_regularizer=tf.keras.regularizers.l2(w_l2)\n",
        ")\n",
        "\n",
        "# Model\n",
        "model = tf.keras.Sequential([\n",
        "    base_model,\n",
        "    maxpool_layer,\n",
        "    dropout_layer,\n",
        "    fc_layer_1,\n",
        "    prediction_layer\n",
        "])\n",
        "\n",
        "model.summary()"
      ],
      "execution_count": 32,
      "outputs": [
        {
          "output_type": "stream",
          "text": [
            "Model: \"sequential_3\"\n",
            "_________________________________________________________________\n",
            "Layer (type)                 Output Shape              Param #   \n",
            "=================================================================\n",
            "mobilenetv2_1.00_224 (Model) (None, 7, 7, 1280)        2257984   \n",
            "_________________________________________________________________\n",
            "global_max_pooling2d_3 (Glob (None, 1280)              0         \n",
            "_________________________________________________________________\n",
            "dropout_3 (Dropout)          (None, 1280)              0         \n",
            "_________________________________________________________________\n",
            "dense_6 (Dense)              (None, 1280)              1639680   \n",
            "_________________________________________________________________\n",
            "dense_7 (Dense)              (None, 2)                 2562      \n",
            "=================================================================\n",
            "Total params: 3,900,226\n",
            "Trainable params: 1,642,242\n",
            "Non-trainable params: 2,257,984\n",
            "_________________________________________________________________\n"
          ],
          "name": "stdout"
        }
      ]
    },
    {
      "cell_type": "code",
      "metadata": {
        "id": "aPM-CSf5dXjj",
        "colab_type": "code",
        "colab": {}
      },
      "source": [
        "# Compile the model\n",
        "from tensorflow.keras.optimizers import RMSprop, Adam\n",
        "\n",
        "if train_algo == 'rms':\n",
        "    model.compile(\n",
        "        optimizer=RMSprop(learning_rate=learning_rate),\n",
        "        loss='categorical_crossentropy',\n",
        "        metrics=['accuracy']\n",
        "    )\n",
        "else:\n",
        "    model.compile(\n",
        "        optimizer=tf.keras.optimizers.Adam(learning_rate=learning_rate), \n",
        "        loss='categorical_crossentropy',\n",
        "        metrics=['accuracy']\n",
        "    )"
      ],
      "execution_count": 0,
      "outputs": []
    },
    {
      "cell_type": "code",
      "metadata": {
        "id": "JtGSs7GTeZtg",
        "colab_type": "code",
        "outputId": "b9d71611-c3d4-4f38-dd5f-6b86b641e258",
        "colab": {
          "base_uri": "https://localhost:8080/",
          "height": 34
        }
      },
      "source": [
        "import os\n",
        "labels_count = dict()\n",
        "for img_class in CLASSES:\n",
        "    labels_count[img_class] = len(os.listdir('images/' + img_class))\n",
        "total_count = sum(labels_count.values())\n",
        "class_weights = {cls: total_count / count for cls, count in enumerate(labels_count.values())}\n",
        "class_weights"
      ],
      "execution_count": 34,
      "outputs": [
        {
          "output_type": "execute_result",
          "data": {
            "text/plain": [
              "{0: 1.8010752688172043, 1: 2.248322147651007}"
            ]
          },
          "metadata": {
            "tags": []
          },
          "execution_count": 34
        }
      ]
    },
    {
      "cell_type": "code",
      "metadata": {
        "id": "c7JV8MxlRPGK",
        "colab_type": "code",
        "colab": {}
      },
      "source": [
        "# figsize=224, dropout rate 0.5"
      ],
      "execution_count": 0,
      "outputs": []
    },
    {
      "cell_type": "code",
      "metadata": {
        "id": "IEF3hlgqdwFD",
        "colab_type": "code",
        "outputId": "441a1ea5-9b45-457a-f02d-eb6b547c5386",
        "colab": {
          "base_uri": "https://localhost:8080/",
          "height": 1000
        }
      },
      "source": [
        "from tensorflow.keras.callbacks import CSVLogger, EarlyStopping, ReduceLROnPlateau\n",
        "\n",
        "n_epochs = 100\n",
        "csv_logger = CSVLogger(filename=file_csv, append=True, separator=',')\n",
        "early_stopping = EarlyStopping(patience=20, restore_best_weights=True, verbose=1)\n",
        "reduce_lr = ReduceLROnPlateau(factor=0.5, min_lr=0.000001, patience=5, verbose=1)\n",
        "\n",
        "hist = model.fit_generator(\n",
        "            train_generator,\n",
        "            steps_per_epoch=train_generator.n//BATCH_SIZE,\n",
        "            epochs=n_epochs,\n",
        "            validation_data=val_generator,\n",
        "            validation_steps=val_generator.n//BATCH_SIZE,\n",
        "            class_weight=class_weights,\n",
        "            callbacks=[\n",
        "                csv_logger,\n",
        "                early_stopping,\n",
        "                reduce_lr,\n",
        "            ],\n",
        "            # shuffle=True,\n",
        ")\n",
        "\n",
        "model.save_weights(file_weights)"
      ],
      "execution_count": 39,
      "outputs": [
        {
          "output_type": "stream",
          "text": [
            "Epoch 1/100\n",
            "14/14 [==============================] - 10s 727ms/step - loss: 0.1690 - accuracy: 0.9657 - val_loss: 0.6039 - val_accuracy: 0.8672\n",
            "Epoch 2/100\n",
            "14/14 [==============================] - 10s 710ms/step - loss: 0.2679 - accuracy: 0.9542 - val_loss: 0.9739 - val_accuracy: 0.7734\n",
            "Epoch 3/100\n",
            "14/14 [==============================] - 10s 683ms/step - loss: 0.2544 - accuracy: 0.9634 - val_loss: 0.5256 - val_accuracy: 0.8828\n",
            "Epoch 4/100\n",
            "14/14 [==============================] - 10s 680ms/step - loss: 0.0952 - accuracy: 0.9794 - val_loss: 0.4738 - val_accuracy: 0.8984\n",
            "Epoch 5/100\n",
            "14/14 [==============================] - 9s 674ms/step - loss: 0.1765 - accuracy: 0.9680 - val_loss: 0.2563 - val_accuracy: 0.8984\n",
            "Epoch 6/100\n",
            "14/14 [==============================] - 9s 673ms/step - loss: 0.1522 - accuracy: 0.9771 - val_loss: 0.4545 - val_accuracy: 0.8906\n",
            "Epoch 7/100\n",
            "14/14 [==============================] - 10s 687ms/step - loss: 0.1727 - accuracy: 0.9710 - val_loss: 0.3274 - val_accuracy: 0.8984\n",
            "Epoch 8/100\n",
            "14/14 [==============================] - 9s 677ms/step - loss: 0.1827 - accuracy: 0.9718 - val_loss: 0.1717 - val_accuracy: 0.9375\n",
            "Epoch 9/100\n",
            "14/14 [==============================] - 9s 666ms/step - loss: 0.1391 - accuracy: 0.9703 - val_loss: 0.3442 - val_accuracy: 0.8984\n",
            "Epoch 10/100\n",
            "14/14 [==============================] - 10s 683ms/step - loss: 0.0248 - accuracy: 0.9978 - val_loss: 0.6435 - val_accuracy: 0.8594\n",
            "Epoch 11/100\n",
            "14/14 [==============================] - 9s 670ms/step - loss: 0.2439 - accuracy: 0.9588 - val_loss: 0.2234 - val_accuracy: 0.9062\n",
            "Epoch 12/100\n",
            "14/14 [==============================] - 9s 646ms/step - loss: 0.1016 - accuracy: 0.9765 - val_loss: 0.2309 - val_accuracy: 0.8984\n",
            "Epoch 13/100\n",
            "13/14 [==========================>...] - ETA: 0s - loss: 0.0898 - accuracy: 0.9827\n",
            "Epoch 00013: ReduceLROnPlateau reducing learning rate to 4.999999873689376e-05.\n",
            "14/14 [==============================] - 9s 676ms/step - loss: 0.0836 - accuracy: 0.9840 - val_loss: 0.5012 - val_accuracy: 0.8828\n",
            "Epoch 14/100\n",
            "14/14 [==============================] - 10s 729ms/step - loss: 0.0854 - accuracy: 0.9799 - val_loss: 0.4460 - val_accuracy: 0.8828\n",
            "Epoch 15/100\n",
            "14/14 [==============================] - 10s 681ms/step - loss: 0.0407 - accuracy: 0.9886 - val_loss: 0.3043 - val_accuracy: 0.8984\n",
            "Epoch 16/100\n",
            "14/14 [==============================] - 9s 651ms/step - loss: 0.0491 - accuracy: 0.9886 - val_loss: 0.5191 - val_accuracy: 0.8750\n",
            "Epoch 17/100\n",
            "14/14 [==============================] - 10s 692ms/step - loss: 0.0716 - accuracy: 0.9863 - val_loss: 0.4489 - val_accuracy: 0.8750\n",
            "Epoch 18/100\n",
            "13/14 [==========================>...] - ETA: 0s - loss: 0.0461 - accuracy: 0.9877\n",
            "Epoch 00018: ReduceLROnPlateau reducing learning rate to 2.499999936844688e-05.\n",
            "14/14 [==============================] - 10s 683ms/step - loss: 0.0501 - accuracy: 0.9863 - val_loss: 0.2793 - val_accuracy: 0.9141\n",
            "Epoch 19/100\n",
            "14/14 [==============================] - 10s 684ms/step - loss: 0.0638 - accuracy: 0.9888 - val_loss: 0.5199 - val_accuracy: 0.8750\n",
            "Epoch 20/100\n",
            "14/14 [==============================] - 9s 674ms/step - loss: 0.0374 - accuracy: 0.9886 - val_loss: 0.3049 - val_accuracy: 0.9062\n",
            "Epoch 21/100\n",
            "14/14 [==============================] - 9s 662ms/step - loss: 0.0510 - accuracy: 0.9906 - val_loss: 0.3775 - val_accuracy: 0.8906\n",
            "Epoch 22/100\n",
            "14/14 [==============================] - 10s 681ms/step - loss: 0.0734 - accuracy: 0.9866 - val_loss: 0.4170 - val_accuracy: 0.8906\n",
            "Epoch 23/100\n",
            "13/14 [==========================>...] - ETA: 0s - loss: 0.0666 - accuracy: 0.9873\n",
            "Epoch 00023: ReduceLROnPlateau reducing learning rate to 1.249999968422344e-05.\n",
            "14/14 [==============================] - 9s 659ms/step - loss: 0.1078 - accuracy: 0.9859 - val_loss: 0.3062 - val_accuracy: 0.9062\n",
            "Epoch 24/100\n",
            "14/14 [==============================] - 10s 682ms/step - loss: 0.0692 - accuracy: 0.9863 - val_loss: 0.4074 - val_accuracy: 0.8906\n",
            "Epoch 25/100\n",
            "14/14 [==============================] - 9s 672ms/step - loss: 0.0732 - accuracy: 0.9886 - val_loss: 0.5024 - val_accuracy: 0.8750\n",
            "Epoch 26/100\n",
            "14/14 [==============================] - 9s 677ms/step - loss: 0.1077 - accuracy: 0.9866 - val_loss: 0.4055 - val_accuracy: 0.8906\n",
            "Epoch 27/100\n",
            "14/14 [==============================] - 9s 663ms/step - loss: 0.0173 - accuracy: 0.9954 - val_loss: 0.4315 - val_accuracy: 0.8906\n",
            "Epoch 28/100\n",
            "13/14 [==========================>...] - ETA: 0s - loss: 0.0854 - accuracy: 0.9778Restoring model weights from the end of the best epoch.\n",
            "\n",
            "Epoch 00028: ReduceLROnPlateau reducing learning rate to 6.24999984211172e-06.\n",
            "14/14 [==============================] - 10s 703ms/step - loss: 0.0795 - accuracy: 0.9794 - val_loss: 0.5032 - val_accuracy: 0.8750\n",
            "Epoch 00028: early stopping\n"
          ],
          "name": "stdout"
        }
      ]
    },
    {
      "cell_type": "code",
      "metadata": {
        "id": "mWY2kpU2_3rL",
        "colab_type": "code",
        "outputId": "57254b26-97cf-43d6-a2a4-6e17de5c39e7",
        "colab": {
          "base_uri": "https://localhost:8080/",
          "height": 404
        }
      },
      "source": [
        "import csv\n",
        "\n",
        "accuracy = []\n",
        "loss = []\n",
        "val_accuracy = []\n",
        "val_loss = []\n",
        "\n",
        "with open(file_csv) as f:\n",
        "    csv_reader = csv.reader(f, delimiter=',')\n",
        "    line_count = 0\n",
        "    for row in csv_reader:\n",
        "        if line_count == 0:\n",
        "            # print(f'Column names are {\", \".join(row)}')\n",
        "            line_count += 1\n",
        "        else:\n",
        "            accuracy.append(float(row[1]))\n",
        "            loss.append(float(row[2]))\n",
        "            val_accuracy.append(float(row[3]))\n",
        "            val_loss.append(float(row[4]))\n",
        "            line_count += 1\n",
        "\n",
        "import matplotlib.pyplot as plt\n",
        "\n",
        "fig, (ax1, ax2) = plt.subplots(1,2, figsize=(20,6))\n",
        "\n",
        "# Plot training & validation accuracy values\n",
        "ax1.plot(accuracy)\n",
        "ax1.plot(val_accuracy)\n",
        "ax1.set_title('Model accuracy')\n",
        "ax1.set_ylabel('Accuracy')\n",
        "ax1.set_xlabel('Epoch')\n",
        "ax1.legend(['Train', 'Validation'], loc='upper left')\n",
        "# ax1.ylim(0.5, 1.1)\n",
        "\n",
        "# Plot training & validation loss values\n",
        "ax2.plot(loss)\n",
        "ax2.plot(val_loss)\n",
        "ax2.set_title('Model loss')\n",
        "ax2.set_ylabel('Loss')\n",
        "ax2.set_xlabel('Epoch')\n",
        "ax2.legend(['Train', 'Validation'], loc='upper left')\n",
        "ax2.set_ylim(0,8)\n",
        "plt.show()   "
      ],
      "execution_count": 40,
      "outputs": [
        {
          "output_type": "display_data",
          "data": {
            "image/png": "[encoded data removed]",
            "text/plain": [
              "<Figure size 1440x432 with 2 Axes>"
            ]
          },
          "metadata": {
            "tags": []
          }
        }
      ]
    },
    {
      "cell_type": "code",
      "metadata": {
        "id": "zDPC3MEDpRh7",
        "colab_type": "code",
        "outputId": "ec6c540a-e6a9-4294-a7a3-7b45dccad295",
        "colab": {
          "base_uri": "https://localhost:8080/",
          "height": 52
        }
      },
      "source": [
        "# predcition\n",
        "\n",
        "import numpy as np\n",
        "\n",
        "\n",
        "test_generator = datagen_val_test.flow_from_directory(\n",
        "    directory=r\"./images_test/\",\n",
        "    target_size=(224, 224),\n",
        "    color_mode=\"rgb\",\n",
        "    batch_size=1,\n",
        "    class_mode=None,\n",
        "    shuffle=False,\n",
        "    seed=42\n",
        ")\n",
        "\n",
        "\n",
        "STEP_SIZE_TEST=test_generator.n//test_generator.batch_size\n",
        "test_generator.reset()\n",
        "pred=model.predict_generator(test_generator,\n",
        "                             steps=STEP_SIZE_TEST,\n",
        "                             verbose=1)\n"
      ],
      "execution_count": 41,
      "outputs": [
        {
          "output_type": "stream",
          "text": [
            "Found 67 images belonging to 2 classes.\n",
            "67/67 [==============================] - 6s 87ms/step\n"
          ],
          "name": "stdout"
        }
      ]
    },
    {
      "cell_type": "code",
      "metadata": {
        "id": "9ak0ugp1q4Y7",
        "colab_type": "code",
        "outputId": "8c3bc2fc-b7ae-4d8f-cd23-e2b8cd801b11",
        "colab": {
          "base_uri": "https://localhost:8080/",
          "height": 1000
        }
      },
      "source": [
        "predicted_class_indices=np.argmax(pred,axis=1)\n",
        "labels = (train_generator.class_indices)\n",
        "labels = dict((v,k) for k,v in labels.items())\n",
        "predictions = [labels[k] for k in predicted_class_indices]\n",
        "\n",
        "image_nr = 0\n",
        "for cls in sorted(os.listdir('./images_test')):\n",
        "     for _ in os.listdir(os.path.join('./images_test', cls)):\n",
        "         p = predictions[image_nr]\n",
        "         print('x' if p == cls else '-', cls, p)\n",
        "         image_nr += 1"
      ],
      "execution_count": 42,
      "outputs": [
        {
          "output_type": "stream",
          "text": [
            "x CANDY CANDY\n",
            "x CANDY CANDY\n",
            "x CANDY CANDY\n",
            "x CANDY CANDY\n",
            "x CANDY CANDY\n",
            "x CANDY CANDY\n",
            "x CANDY CANDY\n",
            "x CANDY CANDY\n",
            "x CANDY CANDY\n",
            "x CANDY CANDY\n",
            "x CANDY CANDY\n",
            "x CANDY CANDY\n",
            "x CANDY CANDY\n",
            "x CANDY CANDY\n",
            "x CANDY CANDY\n",
            "x CANDY CANDY\n",
            "x CANDY CANDY\n",
            "- CANDY COFFEE\n",
            "x CANDY CANDY\n",
            "x CANDY CANDY\n",
            "x CANDY CANDY\n",
            "x CANDY CANDY\n",
            "- CANDY COFFEE\n",
            "x CANDY CANDY\n",
            "x CANDY CANDY\n",
            "x CANDY CANDY\n",
            "x CANDY CANDY\n",
            "x CANDY CANDY\n",
            "x CANDY CANDY\n",
            "x CANDY CANDY\n",
            "x CANDY CANDY\n",
            "x CANDY CANDY\n",
            "x CANDY CANDY\n",
            "x CANDY CANDY\n",
            "x CANDY CANDY\n",
            "x CANDY CANDY\n",
            "- CANDY COFFEE\n",
            "x CANDY CANDY\n",
            "x COFFEE COFFEE\n",
            "x COFFEE COFFEE\n",
            "x COFFEE COFFEE\n",
            "x COFFEE COFFEE\n",
            "x COFFEE COFFEE\n",
            "x COFFEE COFFEE\n",
            "x COFFEE COFFEE\n",
            "x COFFEE COFFEE\n",
            "x COFFEE COFFEE\n",
            "- COFFEE CANDY\n",
            "x COFFEE COFFEE\n",
            "x COFFEE COFFEE\n",
            "x COFFEE COFFEE\n",
            "x COFFEE COFFEE\n",
            "x COFFEE COFFEE\n",
            "x COFFEE COFFEE\n",
            "x COFFEE COFFEE\n",
            "x COFFEE COFFEE\n",
            "x COFFEE COFFEE\n",
            "x COFFEE COFFEE\n",
            "x COFFEE COFFEE\n",
            "- COFFEE CANDY\n",
            "x COFFEE COFFEE\n",
            "- COFFEE CANDY\n",
            "- COFFEE CANDY\n",
            "x COFFEE COFFEE\n",
            "x COFFEE COFFEE\n",
            "x COFFEE COFFEE\n",
            "x COFFEE COFFEE\n"
          ],
          "name": "stdout"
        }
      ]
    },
    {
      "cell_type": "code",
      "metadata": {
        "id": "jFc7s5jzwWZz",
        "colab_type": "code",
        "colab": {}
      },
      "source": [
        ""
      ],
      "execution_count": 0,
      "outputs": []
    }
  ]
}