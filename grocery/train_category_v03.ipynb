{
  "nbformat": 4,
  "nbformat_minor": 0,
  "metadata": {
    "colab": {
      "name": "train-category-v03.ipynb",
      "provenance": [],
      "collapsed_sections": [],
      "toc_visible": true,
      "include_colab_link": true
    },
    "kernelspec": {
      "name": "python3",
      "display_name": "Python 3"
    },
    "accelerator": "GPU"
  },
  "cells": [
    {
      "cell_type": "markdown",
      "metadata": {
        "id": "view-in-github",
        "colab_type": "text"
      },
      "source": [
        "<a href=\"https://colab.research.google.com/github/chuan137/egohands/blob/master/grocery/train_category_v03.ipynb\" target=\"_parent\"><img src=\"https://colab.research.google.com/assets/colab-badge.svg\" alt=\"Open In Colab\"/></a>"
      ]
    },
    {
      "cell_type": "markdown",
      "metadata": {
        "id": "3yo3Q73Saai1",
        "colab_type": "text"
      },
      "source": [
        "## Note"
      ]
    },
    {
      "cell_type": "markdown",
      "metadata": {
        "id": "97g7AIFiaMYg",
        "colab_type": "text"
      },
      "source": [
        "### Update\n",
        "* use image data generator to split validation and train data\n",
        "\n",
        "### Training\n",
        "\n",
        "* one fully connected layer\n",
        "* softmax layer with regularizer, weight = 0.0001\n",
        "* optimizer Adam, learning rate 0.001\n",
        "* image size 96\n",
        "* steps per epoch 200\n",
        "* validation steps 50\n"
      ]
    },
    {
      "cell_type": "markdown",
      "metadata": {
        "id": "1I2iCuFUaYLN",
        "colab_type": "text"
      },
      "source": [
        "## Prepare"
      ]
    },
    {
      "cell_type": "code",
      "metadata": {
        "id": "AIGaFb0tEYrk",
        "colab_type": "code",
        "outputId": "a29db4aa-d198-4ef2-bba3-c8c1e08878bf",
        "colab": {
          "base_uri": "https://localhost:8080/",
          "height": 123
        }
      },
      "source": [
        "!pip install --upgrade -q tensorflow-gpu==2.0\n",
        "import tensorflow as tf\n",
        "print(tf.__version__)"
      ],
      "execution_count": 0,
      "outputs": [
        {
          "output_type": "stream",
          "text": [
            "\u001b[K     |████████████████████████████████| 380.8MB 43kB/s \n",
            "\u001b[K     |████████████████████████████████| 450kB 40.7MB/s \n",
            "\u001b[K     |████████████████████████████████| 3.8MB 30.1MB/s \n",
            "\u001b[31mERROR: tensorflow 1.15.0 has requirement tensorboard<1.16.0,>=1.15.0, but you'll have tensorboard 2.0.0 which is incompatible.\u001b[0m\n",
            "\u001b[31mERROR: tensorflow 1.15.0 has requirement tensorflow-estimator==1.15.1, but you'll have tensorflow-estimator 2.0.1 which is incompatible.\u001b[0m\n",
            "\u001b[?25h2.0.0\n"
          ],
          "name": "stdout"
        }
      ]
    },
    {
      "cell_type": "code",
      "metadata": {
        "id": "ItuoQ_0d5DRX",
        "colab_type": "code",
        "outputId": "ddc04d46-41df-467f-f4c8-823efe784075",
        "colab": {
          "base_uri": "https://localhost:8080/",
          "height": 125
        }
      },
      "source": [
        "from google.colab import drive\n",
        "drive.mount('/content/drive')"
      ],
      "execution_count": 0,
      "outputs": [
        {
          "output_type": "stream",
          "text": [
            "Go to this URL in a browser: https://accounts.google.com/o/oauth2/auth?client_id=947318989803-6bn6qk8qdgf4n4g3pfee6491hc0brc4i.apps.googleusercontent.com&redirect_uri=urn%3Aietf%3Awg%3Aoauth%3A2.0%3Aoob&scope=email%20https%3A%2F%2Fwww.googleapis.com%2Fauth%2Fdocs.test%20https%3A%2F%2Fwww.googleapis.com%2Fauth%2Fdrive%20https%3A%2F%2Fwww.googleapis.com%2Fauth%2Fdrive.photos.readonly%20https%3A%2F%2Fwww.googleapis.com%2Fauth%2Fpeopleapi.readonly&response_type=code\n",
            "\n",
            "Enter your authorization code:\n",
            "··········\n",
            "Mounted at /content/drive\n"
          ],
          "name": "stdout"
        }
      ]
    },
    {
      "cell_type": "code",
      "metadata": {
        "id": "MTbsckzr5_Ej",
        "colab_type": "code",
        "outputId": "c729f8d8-de8a-46ab-8f50-299ce51ee817",
        "colab": {
          "base_uri": "https://localhost:8080/",
          "height": 34
        }
      },
      "source": [
        "%set_env PROJECT=/content/drive/My Drive/Colab Notebooks/grocery\n",
        "!cp \"$PROJECT\"/data/images.zip .\n",
        "!unzip -q images.zip\n",
        "!cp \"$PROJECT\"/data/*.csv ."
      ],
      "execution_count": 0,
      "outputs": [
        {
          "output_type": "stream",
          "text": [
            "env: PROJECT=/content/drive/My Drive/Colab Notebooks/grocery\n"
          ],
          "name": "stdout"
        }
      ]
    },
    {
      "cell_type": "markdown",
      "metadata": {
        "id": "Mr5Ug_gW_Z66",
        "colab_type": "text"
      },
      "source": [
        "## Load Data"
      ]
    },
    {
      "cell_type": "code",
      "metadata": {
        "id": "i8rMlAsom_Xd",
        "colab_type": "code",
        "colab": {}
      },
      "source": [
        "classes = {\n",
        "    'BEANS': 0,\n",
        "    'CAKE': 1,\n",
        "    'CANDY': 2,\n",
        "    'CEREAL': 3,\n",
        "    'CHIPS': 4,\n",
        "    'CHOCOLATE': 5,\n",
        "    'COFFEE': 6,\n",
        "    'CORN': 7,\n",
        "    'FISH': 8,\n",
        "    'FLOUR': 9,\n",
        "    'HONEY': 10,\n",
        "    'JAM': 11,\n",
        "    'JUICE': 12,\n",
        "    'MILK': 13,\n",
        "    'NUTS': 14,\n",
        "    'OIL': 15,\n",
        "    'PASTA': 16,\n",
        "    'RICE': 17,\n",
        "    'SODA': 18,\n",
        "    'SPICES': 19,\n",
        "    'SUGAR': 20,\n",
        "    'TEA': 21,\n",
        "    'TOMATO_SAUCE': 22,\n",
        "    'VINEGAR': 23,\n",
        "    'WATER': 24\n",
        "    }\n",
        "\n",
        "IMAGE_SIZE = 224\n",
        "BATCH_SIZE = 32\n",
        "CLASS_SIZE = 25\n",
        "IMG_SHAPE = (IMAGE_SIZE, IMAGE_SIZE, 3)"
      ],
      "execution_count": 0,
      "outputs": []
    },
    {
      "cell_type": "code",
      "metadata": {
        "id": "DFpsYrRS68GA",
        "colab_type": "code",
        "outputId": "8951668c-ecad-495e-fe8d-8ac009fabb8d",
        "colab": {
          "base_uri": "https://localhost:8080/",
          "height": 52
        }
      },
      "source": [
        "from tensorflow.keras.preprocessing.image import ImageDataGenerator\n",
        "\n",
        "datagen = ImageDataGenerator(\n",
        "    rescale=1./255,\n",
        "    validation_split=0.2\n",
        ")\n",
        "\n",
        "train_generator = datagen.flow_from_directory(\n",
        "    './images',\n",
        "    target_size=(IMAGE_SIZE, IMAGE_SIZE),\n",
        "    subset='training'\n",
        ")\n",
        "\n",
        "val_generator = datagen.flow_from_directory(\n",
        "    './images',\n",
        "    target_size=(IMAGE_SIZE, IMAGE_SIZE),\n",
        "    subset='validation'\n",
        ")\n"
      ],
      "execution_count": 0,
      "outputs": [
        {
          "output_type": "stream",
          "text": [
            "Found 3967 images belonging to 25 classes.\n",
            "Found 980 images belonging to 25 classes.\n"
          ],
          "name": "stdout"
        }
      ]
    },
    {
      "cell_type": "code",
      "metadata": {
        "id": "mTM4GivYeRAq",
        "colab_type": "code",
        "outputId": "028f0d82-1c87-439b-ab12-d37f8196f144",
        "colab": {
          "base_uri": "https://localhost:8080/",
          "height": 301
        }
      },
      "source": [
        "import tensorflow as tf\n",
        "from tensorflow.keras import regularizers\n",
        "\n",
        "w_l2 = 0.0001\n",
        "n_class = 25\n",
        "\n",
        "# Pre-trained model with MobileNetV2\n",
        "base_model = tf.keras.applications.MobileNetV2(\n",
        "    input_shape=IMG_SHAPE,\n",
        "    include_top=False,\n",
        "    weights='imagenet'\n",
        ")\n",
        "# Freeze the pre-trained model weights\n",
        "base_model.trainable = False\n",
        "# Trainable classification head\n",
        "maxpool_layer = tf.keras.layers.GlobalMaxPooling2D()\n",
        "fc_layer_1 = tf.keras.layers.Dense(1280, activation='relu')\n",
        "# Prediction with L2 regularizer\n",
        "prediction_layer = tf.keras.layers.Dense(\n",
        "    n_class, \n",
        "    kernel_regularizer=regularizers.l2(w_l2), \n",
        "    activation='softmax')\n",
        "\n",
        "# Layer classification head with feature detector\n",
        "model = tf.keras.Sequential([\n",
        "    base_model,\n",
        "    maxpool_layer,\n",
        "    fc_layer_1,\n",
        "    prediction_layer\n",
        "])\n",
        "\n",
        "model.summary()"
      ],
      "execution_count": 0,
      "outputs": [
        {
          "output_type": "stream",
          "text": [
            "Model: \"sequential_4\"\n",
            "_________________________________________________________________\n",
            "Layer (type)                 Output Shape              Param #   \n",
            "=================================================================\n",
            "mobilenetv2_1.00_224 (Model) (None, 7, 7, 1280)        2257984   \n",
            "_________________________________________________________________\n",
            "global_max_pooling2d_4 (Glob (None, 1280)              0         \n",
            "_________________________________________________________________\n",
            "dense_8 (Dense)              (None, 1280)              1639680   \n",
            "_________________________________________________________________\n",
            "dense_9 (Dense)              (None, 25)                32025     \n",
            "=================================================================\n",
            "Total params: 3,929,689\n",
            "Trainable params: 1,671,705\n",
            "Non-trainable params: 2,257,984\n",
            "_________________________________________________________________\n"
          ],
          "name": "stdout"
        }
      ]
    },
    {
      "cell_type": "code",
      "metadata": {
        "id": "hwcS-hJ-eSe9",
        "colab_type": "code",
        "outputId": "cb31b1be-0eef-4e89-c92e-cb0b2172008b",
        "colab": {
          "base_uri": "https://localhost:8080/",
          "height": 221
        }
      },
      "source": [
        "learning_rate = 0.001\n",
        "num_epochs = 50\n",
        "steps_per_epoch = 100\n",
        "val_steps = 100\n",
        "\n",
        "# Compile the model\n",
        "model.compile(optimizer=tf.keras.optimizers.Adam(learning_rate=learning_rate), \n",
        "              loss='categorical_crossentropy',\n",
        "              metrics=['accuracy']\n",
        ")\n",
        "\n",
        "# Fit\n",
        "hist = model.fit_generator(\n",
        "            train_generator,\n",
        "            steps_per_epoch=steps_per_epoch,\n",
        "            epochs=num_epochs,\n",
        "            validation_data=val_generator,\n",
        "            validation_steps=val_steps)"
      ],
      "execution_count": 0,
      "outputs": [
        {
          "output_type": "stream",
          "text": [
            "Epoch 1/50\n",
            "100/100 [==============================] - 59s 590ms/step - loss: 14.2949 - accuracy: 0.0794 - val_loss: 14.5230 - val_accuracy: 0.0863\n",
            "Epoch 2/50\n",
            "100/100 [==============================] - 59s 586ms/step - loss: 14.5140 - accuracy: 0.0919 - val_loss: 14.4534 - val_accuracy: 0.0882\n",
            "Epoch 3/50\n",
            "100/100 [==============================] - 58s 581ms/step - loss: 14.6964 - accuracy: 0.0844 - val_loss: 14.9551 - val_accuracy: 0.0730\n",
            "Epoch 4/50\n",
            "100/100 [==============================] - 58s 582ms/step - loss: 14.9727 - accuracy: 0.0713 - val_loss: 14.9278 - val_accuracy: 0.0749\n",
            "Epoch 5/50\n",
            "100/100 [==============================] - 59s 587ms/step - loss: 14.9126 - accuracy: 0.0750 - val_loss: 14.9045 - val_accuracy: 0.0752\n",
            "Epoch 6/50\n",
            " 99/100 [============================>.] - ETA: 0s - loss: 14.9002 - accuracy: 0.0758"
          ],
          "name": "stdout"
        }
      ]
    }
  ]
}